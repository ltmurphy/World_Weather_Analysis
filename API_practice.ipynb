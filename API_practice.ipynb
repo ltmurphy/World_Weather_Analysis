{
 "cells": [
  {
   "cell_type": "code",
   "execution_count": null,
   "id": "08c59933",
   "metadata": {},
   "outputs": [],
   "source": [
    "# 6.1.4 cont...\n",
    "# add the following lists and pack them into the zipped tuple\n",
    "# Create a practice set of random latitude and longitude combinations.\n",
    "x = [25.12903645, 25.92017388, 26.62509167, -59.98969384, 37.30571269]\n",
    "y = [-67.59741259, 11.09532135, 74.84233102, -76.89176677, -61.13376282]\n",
    "coordinates = zip(x, y)"
   ]
  },
  {
   "cell_type": "code",
   "execution_count": null,
   "id": "948194ee",
   "metadata": {},
   "outputs": [],
   "source": [
    "# display the coordinate pairs\n",
    "# Use the tuple() function to display the latitude and longitude combinations.\n",
    "# the output is ordered pairs of our x and y coordinates.\n",
    "for coordinate in coordinates:\n",
    "    print(coordinate[0], coordinate[1])"
   ]
  },
  {
   "cell_type": "code",
   "execution_count": null,
   "id": "a0500e6f",
   "metadata": {},
   "outputs": [],
   "source": [
    "# Next, let's unpack our lat_lngs zip object into a list. This way, we only need to create a set of random latitudes and longitudes once.\n",
    "# Back to WeatherPy.ipynb"
   ]
  },
  {
   "cell_type": "code",
   "execution_count": null,
   "id": "5db6ce7a",
   "metadata": {},
   "outputs": [],
   "source": [
    "# 6.1.5 continued from WeatherPy\n",
    "# Let's import the citipy script and practice using it.\n",
    "from citipy import citipy"
   ]
  },
  {
   "cell_type": "code",
   "execution_count": null,
   "id": "7b5a0c47",
   "metadata": {},
   "outputs": [],
   "source": [
    "# Next, use the five pairs of latitudes and longitudes we used from our zip practice to get a city and country code from the citipy module.\n",
    "# In a new cell, create a for loop that will do the following:\n",
    "\n",
    "# Iterate through the coordinates' zipped tuple.\n",
    "# Use citipy.nearest_city() and inside the parentheses of nearest_city(), add the latitude and longitude in this format: coordinate[0], coordinate[1].\n",
    "# To print the city name, chain the city_name to the nearest_city() function.\n",
    "# To print the country name, chain the country_code to the nearest_city() function.\n",
    "\n",
    "\n",
    "# Use the tuple() function to display the latitude and longitude combinations.\n",
    "for coordinate in coordinates:\n",
    "    print(citipy.nearest_city(coordinate[0], coordinate[1]).city_name,\n",
    "          citipy.nearest_city(coordinate[0], coordinate[1]).country_code)\n"
   ]
  },
  {
   "cell_type": "code",
   "execution_count": null,
   "id": "0a7e38be",
   "metadata": {},
   "outputs": [],
   "source": [
    "# Now that we are familiar with using the citipy module, we can iterate through our zipped lat_lngs tuple and find the nearest city. When we find a city, we'll need to add it to a list so that we can use the cities to get the weather data.\n",
    "# continued in WeatherPy..."
   ]
  },
  {
   "cell_type": "code",
   "execution_count": null,
   "id": "90a9d50b",
   "metadata": {},
   "outputs": [],
   "source": [
    "# continued from WeatherPy \n",
    "# 6.2.3 Make an API Call\n",
    "# import the Requests Library and your API key from the config.py file.\n",
    "# Import the requests library.\n",
    "import requests\n",
    "\n",
    "# Import the API key.\n",
    "from config import weather_api_key\n"
   ]
  },
  {
   "cell_type": "code",
   "execution_count": null,
   "id": "05fa23f5",
   "metadata": {},
   "outputs": [],
   "source": [
    "# NOTE: Your config.py file should be in the same folder as your API_practice.ipynb file or any Jupyter Notebook file that is accessing the config.py file."
   ]
  },
  {
   "cell_type": "code",
   "execution_count": null,
   "id": "56c3d6d2",
   "metadata": {},
   "outputs": [],
   "source": [
    "# NOTE: If you get a ModuleNotFoundError message, then either your config.py file is not in the same folder as the Jupyter Notebook file, or the name of your config.py file is not the same in the import statement.\n",
    "        #If you get a ImportError message, then the variable for your API key in the code statement is not the same as the variable in your config.py file."
   ]
  },
  {
   "cell_type": "code",
   "execution_count": null,
   "id": "e52d0449",
   "metadata": {
    "scrolled": false
   },
   "outputs": [],
   "source": [
    "# Make an API Call\n",
    "# Before we make an API call for the OpenWeatherMap, we need to use the URL provided on the OpenWeatherMap website.\n",
    "# Let's look at the documentation on the OpenWeatherMap website.\n",
    "    #Navigate to the OpenWeatherMap API documentation for current weather (Links to an external site.).\n",
    "    #This page provides instructions on how to make the API call by city name. The structure of our URL should look like the following:\n",
    "        #api.openweathermap.org/data/2.5/weather?q=city&appid=b6907d289e10d714a6e88b30761fae22\n",
    "    #Add your API key and the city from the cities array for each call.\n",
    "    #Next let's practice making an API call and look at the data returned from the API call. Add the following code to a new cell and run the cell.\n",
    "    \n",
    "# Starting URL for Weather Map API Call.\n",
    "url = \"http://api.openweathermap.org/data/2.5/weather?units=Imperial&APPID=\" + weather_api_key\n",
    "print(url)"
   ]
  },
  {
   "cell_type": "code",
   "execution_count": null,
   "id": "cee46b20",
   "metadata": {},
   "outputs": [],
   "source": [
    "# NOTE: Once you print out your URL, be sure to delete your printed URL from your notebook. This prevents your private API key from being stored in plain text."
   ]
  },
  {
   "cell_type": "code",
   "execution_count": null,
   "id": "3a1e903f",
   "metadata": {},
   "outputs": [],
   "source": [
    "# You may have noticed that we added another feature to the URL: units=Imperial. There are three unit options: standard, metric, and imperial. Navigating to the units section of the current weather data page (Links to an external site.) will show you the options for the unit format: standard metric, and imperial.\n",
    "# When we run the cell, the output will be a URL. Click the URL, and a new window will open in your default web browser. The URL will return a 400 message because we haven't added a city to our URL.\n",
    "# Now let's add a city to the URL to get the current weather data. Add the following code to a new cell and run the cell.\n",
    "# In the code, we are creating a string to get the weather data for Boston by using the city_url. To create the city_url we add the parameter, &q= and \"Boston\" to the url.\n",
    "# The output of this cell will also be a URL. Click the URL and a new window will open in your default web browser that shows the current weather data for Boston.\n",
    "\n",
    "# Create an endpoint URL for a city.\n",
    "city_url = url + \"&q=\" + \"Boston\"\n",
    "print(city_url)"
   ]
  },
  {
   "cell_type": "code",
   "execution_count": null,
   "id": "06089c78",
   "metadata": {},
   "outputs": [],
   "source": [
    "# To make the JSON format readable, add the Chrome JSONView extension (Links to an external site.) to your Chrome web browser.\n"
   ]
  },
  {
   "cell_type": "code",
   "execution_count": null,
   "id": "761b025b",
   "metadata": {},
   "outputs": [],
   "source": [
    "# NOTE: You will need to use an extension on Safari to view JSON shown in the above image. Firefox does not need a JSON extension to view JSON files.\n",
    "        #Since we're retrieving current weather data, the JSON data shown in the above image will differ from that in your endpoint printout. Instead, your weather data will reflect the specific time you ran the code."
   ]
  },
  {
   "cell_type": "code",
   "execution_count": null,
   "id": "8279eaad",
   "metadata": {},
   "outputs": [],
   "source": [
    "# 6.2.4 Make a Request for Data to an API\n",
    "# Retrieve a Response Using the get() Method\n",
    "    #Use the get() method, a feature of the Requests Library, to request data from an API. The get() method is one of many HTTP methods that allow us to access, add, delete, get the headers, and perform other actions on the request.\n",
    "# Below is a list of HTTP methods and their uses. For more information, see the Requests Library (Links to an external site.).\n",
    "    # get()\tRetrieves data from a web source.\n",
    "    # head()\tRetrieves the headers from a web source.\n",
    "    # post()\tAdds or annotates data on a web source. Used on mailing groups, message boards, or comments.\n",
    "    # put()\tUpdates an existing resource. For example, if the date on a Wikipedia page is wrong, you can use the put() method to update that date.\n",
    "    # delete()\tDeletes data from a web source.\n",
    "    # options()\tDiscovers what HTTP methods a web source allows.\n",
    "    # patch()\tPartially modifies a web source.\n",
    "# Inside the parentheses of the get() method, add the URL–in our case, the city_url. Let's make a request to get our weather data for Boston.\n",
    "\n",
    "# Make a 'Get' request for the city weather.\n",
    "city_weather = requests.get(city_url)\n",
    "city_weather\n",
    "\n",
    "# The code output will be <Response [200]>, indicating a valid response. We won't see this code when a website appears in a browser. However, when a website does not appear, we'll see a 404 code, indicating a client error.\n"
   ]
  },
  {
   "cell_type": "code",
   "execution_count": null,
   "id": "1ede2aaf",
   "metadata": {},
   "outputs": [],
   "source": [
    "# You can directly call the response code with the get() method using the status_code. If we chain the status_code to the city_weather variable, we get 200 as the output.\n",
    "city_weather.status_code"
   ]
  },
  {
   "cell_type": "code",
   "execution_count": null,
   "id": "bbaf0297",
   "metadata": {},
   "outputs": [],
   "source": [
    "# If we tried to get weather data from an unrecognized city, or if the weather data for a city wasn't available, we would get a 404 response.\n",
    "# Let's see what would happen if we misspelled a city name–\"Bston\" instead of \"Boston.\" Add the following code to a new cell and run the cell.\n",
    "# Create an endpoint URL for a city.\n",
    "city_url = url + \"&q=\" + \"Bston\"\n",
    "city_weather = requests.get(city_url)\n",
    "city_weather\n",
    "\n",
    "# When we run this cell the output is a <Response [404]>.\n",
    "# We'll review how to handle such response errors, but first, let's learn how to get data from a request.\n"
   ]
  },
  {
   "cell_type": "code",
   "execution_count": null,
   "id": "420976ab",
   "metadata": {},
   "outputs": [],
   "source": [
    "# Get Data from a Response\n",
    "# Now, we'll see what happens when we get a valid response.\n",
    "# In a new cell, correct the spelling for the city of \"Boston\" to create the city_url.\n",
    "# Create an endpoint URL for a city.\n",
    "city_url = url + \"&q=\" + \"Boston\"\n",
    "city_weather = requests.get(city_url)\n",
    "city_weather\n",
    "# When we run this cell the output is \"<Response [200]>.\"\n",
    "# When we receive a valid response from the server, we have to decide on the data format. The options are text, JSON, XML, or HTML format. We can apply the format attributes to get the data into a useful format to parse.\n"
   ]
  },
  {
   "cell_type": "code",
   "execution_count": null,
   "id": "79b4406d",
   "metadata": {},
   "outputs": [],
   "source": [
    "# One format that provides a preview of the JSON data is the text attribute. Let's get the content for the Boston weather data using the following code.\n",
    "# Get the text of the 'Get' request.\n",
    "city_weather.text\n",
    "# The text in the output is a dictionary of dictionaries and arrays, or a JSON file. We can work with this data, but it might be more \n"
   ]
  },
  {
   "cell_type": "code",
   "execution_count": null,
   "id": "21a0a09c",
   "metadata": {},
   "outputs": [],
   "source": [
    "# The text in the output is a dictionary of dictionaries and arrays, or a JSON file. We can work with this data, but it might be more challenging if we needed to retrieve temperature (temp) and humidity ( humidity) from this output because the data is in a sentence format.\n",
    "# Let's use the json() attribute with our response and run the cell.\n",
    "# Get the JSON text of the 'Get' request.\n",
    "city_weather.json()\n",
    "# When we run the cell the output will be the weather data for Boston in JSON format.\n",
    "# With the JSON method, it is a lot easier to see the overall structure of the data, which will make it easier to retrieve data such as temperature and humidity.\n"
   ]
  },
  {
   "cell_type": "code",
   "execution_count": null,
   "id": "a33e0dc0",
   "metadata": {},
   "outputs": [],
   "source": [
    "# Handle Request Errors\n",
    "# When we submit a get request for the city_weather, we want to make sure that we get a valid response, i.e., 200, before we retrieve any data. To check if we get a valid response, we can write a conditional expression that will evaluate whether the status code is equal to 200. If it is, then we can print out a statement that says the weather data was found. If there is a response other than 200, we can print out a statement that says the weather was not found, as in the following example:\n",
    "# Create an endpoint URL for a city.\n",
    "city_url = url + \"&q=\" + \"Boston\"\n",
    "city_weather = requests.get(city_url)\n",
    "if city_weather.status_code == 200:\n",
    "    print(f\"City Weather found.\")\n",
    "else:\n",
    "    print(f\"City weather not found.\")\n",
    "    \n",
    "# When the conditional expression is evaluated, it will print City weather found if true, or City weather not found if false. When we run the cell code above, the output is City weather found.\n"
   ]
  },
  {
   "cell_type": "code",
   "execution_count": null,
   "id": "baf4474e",
   "metadata": {},
   "outputs": [],
   "source": [
    "# NOTE: If the status_code is something other than 200, JSON data will always be returned in the request. We can determine if the response was successful by checking the status_code, clicking the URL, or retrieving specific information from the JSON data.\n"
   ]
  },
  {
   "cell_type": "code",
   "execution_count": null,
   "id": "6e441858",
   "metadata": {},
   "outputs": [],
   "source": [
    "# Add the following code to a new cell and run the cell to test if we get the JSON formatted data.\n",
    "# Create an endpoint URL for a city.\n",
    "city_url = url + \"&q=\" + \"Bston\"\n",
    "city_weather = requests.get(city_url)\n",
    "if city_weather.status_code == 200:\n",
    "    print(f\"City Weather found.\")\n",
    "else:\n",
    "    print(f\"City weather not found.\")\n",
    "\n",
    "# The output for this code is City weather not found."
   ]
  },
  {
   "cell_type": "code",
   "execution_count": null,
   "id": "f2aaf7cb",
   "metadata": {},
   "outputs": [],
   "source": [
    "# However, if we type print(city_url) in a new cell and run the cell, the output will be a URL. If we click the URL, the web browser returns a 404 response and there is no data to retrieve.\n",
    "print(city_url)\n",
    "\n",
    "# We'll learn more about how to handle retrieving JSON data from a URL later in this module."
   ]
  },
  {
   "cell_type": "code",
   "execution_count": null,
   "id": "19f32d12",
   "metadata": {},
   "outputs": [],
   "source": [
    "# 6.2.5 Parse a Response from an API\n",
    "# Congratulations on passing the test! You can pat yourself on the back for passing your own test with flying colors. Now you can confidently start mining the JSON file to retrieve specific weather data for each city and add it to a DataFrame.\n",
    "# For each city in our lats_lngs list, we need to retrieve the following data and add it to a DataFrame:\n",
    "    # City, country, and date\n",
    "    # Latitude and longitude\n",
    "    # Maximum temperature\n",
    "    # Humidity\n",
    "    # Cloudiness\n",
    "    # Wind speed\n",
    "# Before we collect weather data from more than 500 cities, we'll walk through how to get the weather data from Boston. First, correct the spelling for the city of Boston to get a valid URL. Then, in a new cell, add the following code and run the cell.\n",
    "# Create an endpoint URL for a city.\n",
    "city_url = url + \"&q=\" + \"Boston\"\n",
    "city_weather = requests.get(city_url)\n",
    "city_weather.json()\n",
    "\n",
    "# After running the cell, the output will be the JSON-formatted data from the city of Boston."
   ]
  },
  {
   "cell_type": "code",
   "execution_count": null,
   "id": "ece18a0c",
   "metadata": {},
   "outputs": [],
   "source": [
    "# First, let's get something simple, like the country code from the JSON formatted data, which is in a nested dictionary where the first dictionary starts with sys.\n",
    "# In a new cell, let's assign a variable to the city_weather.json() data to the variable \"boston_data\" and run the cell.\n",
    "# Get the JSON data.\n",
    "boston_data = city_weather.json()\n"
   ]
  },
  {
   "cell_type": "code",
   "execution_count": null,
   "id": "cddcc362",
   "metadata": {},
   "outputs": [],
   "source": [
    "# Next, using the sys key to get the corresponding value, we type boston_data['sys'] in a new cell and run the cell. The output is another dictionary as shown in the following image.\n",
    "boston_data['sys']\n"
   ]
  },
  {
   "cell_type": "code",
   "execution_count": null,
   "id": "ac6e8ae1",
   "metadata": {},
   "outputs": [],
   "source": [
    "# If we add the country key in brackets after the sys key, and run the cell again, ‘US’ will be returned in the output.\n",
    "boston_data['sys']['country']\n"
   ]
  },
  {
   "cell_type": "code",
   "execution_count": null,
   "id": "fb511648",
   "metadata": {},
   "outputs": [],
   "source": [
    "# NOTE: When we used boston_data[\"sys\"], there was a key for sunrise and a key for sunset in the output. The value for these keys is the time of day in seconds in a database timestamp format.\n"
   ]
  },
  {
   "cell_type": "code",
   "execution_count": null,
   "id": "3a5466e5",
   "metadata": {},
   "outputs": [],
   "source": [
    "# If we want to retrieve the date in the weather data, we would add the dt key to the boston_data variable like this: boston_data[\"dt\"].\n",
    "boston_data[\"dt\"]"
   ]
  },
  {
   "cell_type": "code",
   "execution_count": null,
   "id": "78d08be1",
   "metadata": {},
   "outputs": [],
   "source": [
    "# Using similar syntax to get the time of day, we can get the latitude, longitude, maximum temperature, humidity, percent cloudiness, and wind speed. Add the following code to a new cell and run the cell.\n",
    "lat = boston_data[\"coord\"][\"lat\"]\n",
    "lng = boston_data[\"coord\"][\"lon\"]\n",
    "max_temp = boston_data[\"main\"][\"temp_max\"]\n",
    "humidity = boston_data[\"main\"][\"humidity\"]\n",
    "clouds = boston_data[\"clouds\"][\"all\"]\n",
    "wind = boston_data[\"wind\"][\"speed\"]\n",
    "print(lat, lng, max_temp, humidity, clouds, wind)\n",
    "\n",
    "# The output will be all of the weather parameters, with the units for maximum temperature in degrees Fahrenheit, the humidity and clouds as a percentage, and the wind in miles per hour.\n"
   ]
  },
  {
   "cell_type": "code",
   "execution_count": null,
   "id": "6489daca",
   "metadata": {},
   "outputs": [],
   "source": [
    "# Convert the Date Timestamp\n",
    "# The date format will appear in seconds, as we saw when we ran this code.\n",
    "boston_data['dt']"
   ]
  },
  {
   "cell_type": "code",
   "execution_count": null,
   "id": "e391d61a",
   "metadata": {},
   "outputs": [],
   "source": [
    "# This format is called Coordinated Universal Time (UTC) or Greenwich Mean Time (GMT). If we want to convert the timestamp to the International Organization for Standardization (ISO) format, or YYYY-MM-DD-HH-MM-SS, we need to use the Python datetime module.\n",
    "# Let's convert the date from the Boston weather data in the JSON format to the ISO format.\n",
    "# Import the datetime module from the datetime library.\n",
    "from datetime import datetime\n",
    "# Get the date from the JSON file.\n",
    "date = boston_data[\"dt\"]\n",
    "# Convert the UTC date to a date format with year, month, day, hours, minutes, and seconds.\n",
    "datetime.utcfromtimestamp(date)\n",
    "\n",
    "# When we run this code, the output is now in the ISO format with the, year, month, date, hour, minute, and seconds offset by commas.\n"
   ]
  },
  {
   "cell_type": "code",
   "execution_count": null,
   "id": "65fc83c8",
   "metadata": {},
   "outputs": [],
   "source": [
    "# We can convert this datetime format to 2019-10-21 17:24:35 using the Python string format method strftime() and adding how we want the string to look inside the parentheses. In our case, we would use strftime('%Y-%m-%d %H:%M:%S').\n",
    "# Add .strftime('%Y-%m-%d %H:%M:%S') to the end of the conversion: datetime.utcfromtimestamp(date).strftime('%Y-%m-%d %H:%M:%S'). Rerun the cell.\n",
    "datetime.utcfromtimestamp(date).strftime('%Y-%m-%d %H:%M:%S')    "
   ]
  },
  {
   "cell_type": "code",
   "execution_count": null,
   "id": "8b376c7f",
   "metadata": {},
   "outputs": [],
   "source": [
    "# Now that we know how to get all the weather data from a JSON response, we can iterate through our cities list and retrieve the data from each city.\n",
    "\n",
    "# NOTE: For more information about the datetime library and strftime(), see the documentation:\n",
    "        # datetime\n",
    "        # strftime"
   ]
  },
  {
   "cell_type": "code",
   "execution_count": null,
   "id": "e9a000d4",
   "metadata": {},
   "outputs": [],
   "source": [
    "# 6.2.6 Get the City Weather Data\n",
    "# You and Jack have a quick catch-up over coffee the next morning, and he can hardly believe his eyes. You have already learned how to use APIs to retrieve data from a JSON file. As you look at the project plan, you realize it's now time for an even bigger challenge: retrieving the weather data from 500+ cities.\n",
    "# You and Jack know this weather data will be able to enhance our client's search capabilities and hopefully draw more clients to your website. This is a huge step for you, but you know you can build on what you've learned thus far to pull it off.\n",
    "# Let's use pseudocode to map out, at a high level, how we will get the weather data for each city for the website.\n",
    "    # Import our dependencies and initialize counters and an empty list that will hold the weather data.\n",
    "    # Loop through the cities list.\n",
    "    # Group the cities in sets of 50 to log the process as we find the weather data for each city.\n",
    "    # Two counters will be needed here: one to log the city count from 1 to 50, and another for the sets.\n",
    "    # Build the city_url or endpoint for each city.\n",
    "    # Log the URL and the record and set numbers.\n",
    "    # Make an API request for each city.\n",
    "    # Parse the JSON weather data for the following:\n",
    "    # City, country, and date\n",
    "    # Latitude and longitude\n",
    "    # Maximum temperature\n",
    "    # Humidity\n",
    "    # Cloudiness\n",
    "    # Wind speed\n",
    "    # Add the data to a list in a dictionary format and then convert the list to a DataFrame.\n"
   ]
  },
  {
   "cell_type": "code",
   "execution_count": null,
   "id": "cc325192",
   "metadata": {},
   "outputs": [],
   "source": [
    "# Import Dependencies, and Initialize an Empty List and Counters\n",
    "# At the top of our code block, we are going to declare an empty list, city_data = []; add a print statement that references the beginning of the logging; and create counters for the record numbers, 1–50; and the set counter.\n",
    "\n",
    "# continued in WeatherPy.ipynb...."
   ]
  },
  {
   "cell_type": "code",
   "execution_count": null,
   "id": "80a31fd6",
   "metadata": {},
   "outputs": [],
   "source": [
    "# continued from WeatherPy.ipynb\n",
    "# 6.3.1\n",
    "# In a new cell in our API_practice.ipynb file, we will import the time module and some code to practice how to use this module. Add the following code in a new cell and run the cell.\n",
    "\n",
    "# Import the time module.\n",
    "import time\n",
    "# Get today's date in seconds.\n",
    "today = time.time()\n",
    "today"
   ]
  },
  {
   "cell_type": "code",
   "execution_count": null,
   "id": "8004d00c",
   "metadata": {},
   "outputs": [],
   "source": [
    "# NOTE: your time will be different when you run the code"
   ]
  },
  {
   "cell_type": "code",
   "execution_count": null,
   "id": "902d2f3a",
   "metadata": {},
   "outputs": [],
   "source": [
    "# The format for time appears like the datetime stamp for the JSON weather data. We can convert this using the string format method, strftime() and pass the formatting parameters for our date in parentheses. To get the format for today, we can add %x inside the parentheses.\n",
    "# In the API_practice file, add strftime(\"%x\")to the time module for our today variable and run the cell. The output will be today's date.\n",
    "\n",
    "# Import the time module.\n",
    "import time\n",
    "# Get today's date in seconds.\n",
    "today = time.strftime(\"%x\")\n",
    "today"
   ]
  },
  {
   "cell_type": "code",
   "execution_count": null,
   "id": "6c347f08",
   "metadata": {},
   "outputs": [],
   "source": [
    "# Now, we can add time.strftime(\"%x\") to our plt.title() function in our scatter plot.\n",
    "# continued in WeatherPy.ipynb..."
   ]
  }
 ],
 "metadata": {
  "kernelspec": {
   "display_name": "PythonData",
   "language": "python",
   "name": "pythondata"
  },
  "language_info": {
   "codemirror_mode": {
    "name": "ipython",
    "version": 3
   },
   "file_extension": ".py",
   "mimetype": "text/x-python",
   "name": "python",
   "nbconvert_exporter": "python",
   "pygments_lexer": "ipython3",
   "version": "3.8.8"
  }
 },
 "nbformat": 4,
 "nbformat_minor": 5
}
