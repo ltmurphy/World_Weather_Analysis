{
 "cells": [
  {
   "cell_type": "code",
   "execution_count": 8,
   "id": "08c59933",
   "metadata": {},
   "outputs": [],
   "source": [
    "# 6.1.4 cont...\n",
    "# add the following lists and pack them into the zipped tuple\n",
    "# Create a practice set of random latitude and longitude combinations.\n",
    "x = [25.12903645, 25.92017388, 26.62509167, -59.98969384, 37.30571269]\n",
    "y = [-67.59741259, 11.09532135, 74.84233102, -76.89176677, -61.13376282]\n",
    "coordinates = zip(x, y)"
   ]
  },
  {
   "cell_type": "code",
   "execution_count": 9,
   "id": "948194ee",
   "metadata": {},
   "outputs": [
    {
     "name": "stdout",
     "output_type": "stream",
     "text": [
      "25.12903645 -67.59741259\n",
      "25.92017388 11.09532135\n",
      "26.62509167 74.84233102\n",
      "-59.98969384 -76.89176677\n",
      "37.30571269 -61.13376282\n"
     ]
    }
   ],
   "source": [
    "# display the coordinate pairs\n",
    "# Use the tuple() function to display the latitude and longitude combinations.\n",
    "# the output is ordered pairs of our x and y coordinates.\n",
    "for coordinate in coordinates:\n",
    "    print(coordinate[0], coordinate[1])"
   ]
  },
  {
   "cell_type": "code",
   "execution_count": 10,
   "id": "a0500e6f",
   "metadata": {},
   "outputs": [],
   "source": [
    "# Next, let's unpack our lat_lngs zip object into a list. This way, we only need to create a set of random latitudes and longitudes once.\n",
    "# Back to WeatherPy.ipynb"
   ]
  },
  {
   "cell_type": "code",
   "execution_count": 11,
   "id": "5db6ce7a",
   "metadata": {},
   "outputs": [],
   "source": [
    "# 6.1.5 continued from WeatherPy\n",
    "# Let's import the citipy script and practice using it.\n",
    "from citipy import citipy"
   ]
  },
  {
   "cell_type": "code",
   "execution_count": 13,
   "id": "7b5a0c47",
   "metadata": {},
   "outputs": [],
   "source": [
    "# Next, use the five pairs of latitudes and longitudes we used from our zip practice to get a city and country code from the citipy module.\n",
    "# In a new cell, create a for loop that will do the following:\n",
    "\n",
    "# Iterate through the coordinates' zipped tuple.\n",
    "# Use citipy.nearest_city() and inside the parentheses of nearest_city(), add the latitude and longitude in this format: coordinate[0], coordinate[1].\n",
    "# To print the city name, chain the city_name to the nearest_city() function.\n",
    "# To print the country name, chain the country_code to the nearest_city() function.\n",
    "\n",
    "\n",
    "# Use the tuple() function to display the latitude and longitude combinations.\n",
    "for coordinate in coordinates:\n",
    "    print(citipy.nearest_city(coordinate[0], coordinate[1]).city_name,\n",
    "          citipy.nearest_city(coordinate[0], coordinate[1]).country_code)\n"
   ]
  },
  {
   "cell_type": "code",
   "execution_count": null,
   "id": "0a7e38be",
   "metadata": {},
   "outputs": [],
   "source": [
    "# Now that we are familiar with using the citipy module, we can iterate through our zipped lat_lngs tuple and find the nearest city. When we find a city, we'll need to add it to a list so that we can use the cities to get the weather data.\n",
    "# continued in WeatherPy..."
   ]
  },
  {
   "cell_type": "code",
   "execution_count": null,
   "id": "90a9d50b",
   "metadata": {},
   "outputs": [],
   "source": []
  }
 ],
 "metadata": {
  "kernelspec": {
   "display_name": "PythonData",
   "language": "python",
   "name": "pythondata"
  },
  "language_info": {
   "codemirror_mode": {
    "name": "ipython",
    "version": 3
   },
   "file_extension": ".py",
   "mimetype": "text/x-python",
   "name": "python",
   "nbconvert_exporter": "python",
   "pygments_lexer": "ipython3",
   "version": "3.8.8"
  }
 },
 "nbformat": 4,
 "nbformat_minor": 5
}
