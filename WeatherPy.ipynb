{
 "cells": [
  {
   "cell_type": "code",
   "execution_count": 3,
   "id": "90976aa5",
   "metadata": {},
   "outputs": [],
   "source": [
    "# 6.1.4 cont...\n",
    "# Create Latitude and Longitude Combinations\n",
    "# import the Pandas, Matplotlib, and NumPy dependencies\n",
    "\n",
    "# Import the dependencies.\n",
    "import pandas as pd\n",
    "import matplotlib.pyplot as plt\n",
    "import numpy as np"
   ]
  },
  {
   "cell_type": "code",
   "execution_count": 4,
   "id": "ed5cc678",
   "metadata": {},
   "outputs": [
    {
     "data": {
      "text/plain": [
       "<zip at 0x7fd6dbe41c80>"
      ]
     },
     "execution_count": 4,
     "metadata": {},
     "output_type": "execute_result"
    }
   ],
   "source": [
    "# In the next cell, we'll add the code that generates the latitudes and longitudes, but first, they need to be stored so that we can access them later. Since we are creating arrays of latitudes and longitudes, we'll declare each array as a variable.\n",
    "# add the following code that we used to generate the random latitudes. Also, we'll create a similar code snippet that will generate longitudes. To ensure enough latitudes and longitudes, we'll start with 1,500. In addition, we'll pack the latitudes (lats) and longitudes (lngs) as pairs by zipping them (lat_lngs) with the zip() function.\n",
    "# When we run this cell, the output is a zip object in memory.\n",
    "\n",
    "# Create a set of random latitude and longitude combinations.\n",
    "lats = np.random.uniform(low=-90.000, high=90.000, size=1500)\n",
    "lngs = np.random.uniform(low=-180.000, high=180.000, size=1500)\n",
    "lat_lngs = zip(lats, lngs)\n",
    "lat_lngs"
   ]
  },
  {
   "cell_type": "code",
   "execution_count": 5,
   "id": "32d18cd2",
   "metadata": {},
   "outputs": [],
   "source": [
    "# The zip object packs each pair of lats and lngs having the same index in their respective array into a tuple. If there are 1,500 latitudes and longitudes, there will be 1,500 tuples of paired latitudes and longitudes, where each latitude and longitude in a tuple can be accessed by the index of 0 and 1, respectively.\n",
    "# Let's practice zipping a small number of latitudes and longitudes and then unpacking the zipped tuple to see how the packing and unpacking work.\n",
    "\n",
    "# continues in API_practice.ipynb"
   ]
  },
  {
   "cell_type": "code",
   "execution_count": 6,
   "id": "c4888dbc",
   "metadata": {},
   "outputs": [],
   "source": [
    "# continued from API_practice.ipynb\n",
    "# Next, let's unpack our lat_lngs zip object into a list. This way, we only need to create a set of random latitudes and longitudes once.\n",
    "# Add the latitudes and longitudes to a list.\n",
    "coordinates = list(lat_lngs)\n"
   ]
  },
  {
   "cell_type": "code",
   "execution_count": 7,
   "id": "fee95362",
   "metadata": {},
   "outputs": [],
   "source": [
    "# NOTE: You can only unzip a zipped tuple once before it is removed from the computer's memory. Make sure you unzip the latitudes and longitudes into the coordinates list before moving on.\n"
   ]
  },
  {
   "cell_type": "code",
   "execution_count": 8,
   "id": "af172c2a",
   "metadata": {},
   "outputs": [],
   "source": [
    "# You lean back from your desk and reflect on the project thus far. Not only have you successfully navigated a quick return to the geographic coordinate system and the Earth's geography, you also wrote code to generate 1,500 latitudes and longitudes.\n",
    "# Now, as cool as this is, your clients aren't going to want information or suggestions provided to them in this format. So, it's time to get started on the next step in your project plan: match those coordinates up with cities.\n",
    "# We are making great progress. With our list of random latitudes and longitudes, we'll use the coordinates in our lat_lngs tuple to find the nearest city using Python's citipy module.\n",
    "# Since we haven't worked with the citipy module yet, let's import and test it. Citipy doesn't come with the Anaconda module, so we'll install it in our PythonData environment.\n",
    "# The citypy documentation (Links to an external site.) instructs us to install the citipy module by typing pip install citipy. To complete the installation, follow the instructions for your operating system.\n",
    "# To learn how to use citypy, click \"Homepage\" on the module webpage or see the GitHub citipy repository (Links to an external site.).\n",
    "# Select the README.md file on the citipy GitHub page for an example of how to use citipy to locate the nearest city and its country code from a pair of latitude and longitude coordinates.\n",
    "# Under \"Looking up with coordinates,\" the first line says from citipy import citipy, meaning we'll import the citipy script from the citipy module.\n",
    "# This script is located in the GitHub repository \n"
   ]
  },
  {
   "cell_type": "code",
   "execution_count": 9,
   "id": "0ea93001",
   "metadata": {},
   "outputs": [],
   "source": [
    "# NOTE: When a Python file containing a script is imported to use in another Python script, the .py extension does not need to be added to the name of the file when using the import statement.\n"
   ]
  },
  {
   "cell_type": "code",
   "execution_count": 10,
   "id": "b45a3e9d",
   "metadata": {},
   "outputs": [],
   "source": [
    "# Let's import the citipy script and practice using it. In our API_practice file, add a new cell and import the citipy.py script from the citipy module.\n",
    "# continued in API_practice"
   ]
  },
  {
   "cell_type": "code",
   "execution_count": 11,
   "id": "644e29af",
   "metadata": {},
   "outputs": [],
   "source": [
    "# 6.1.5 continued from API_practice\n",
    "# Now that we are familiar with using the citipy module, we can iterate through our zipped lat_lngs tuple and find the nearest city. When we find a city, we'll need to add it to a list so that we can use the cities to get the weather data.\n",
    "# First, import the citipy module\n",
    "from citipy import citipy"
   ]
  },
  {
   "cell_type": "code",
   "execution_count": 12,
   "id": "803ffb5f",
   "metadata": {},
   "outputs": [
    {
     "data": {
      "text/plain": [
       "624"
      ]
     },
     "execution_count": 12,
     "metadata": {},
     "output_type": "execute_result"
    }
   ],
   "source": [
    "# Create a list for holding the cities.\n",
    "cities = []\n",
    "# Identify the nearest city for each latitude and longitude combination.\n",
    "for coordinate in coordinates:\n",
    "    city = citipy.nearest_city(coordinate[0], coordinate[1]).city_name\n",
    "\n",
    "    # If the city is unique, then we will add it to the cities list.\n",
    "    if city not in cities:\n",
    "        cities.append(city)\n",
    "# Print the city count to confirm sufficient count.\n",
    "len(cities)"
   ]
  },
  {
   "cell_type": "code",
   "execution_count": 14,
   "id": "d59d6098",
   "metadata": {},
   "outputs": [],
   "source": [
    "# Some of this code should look familiar, but let's break it down:\n",
    "\n",
    "# We create a cities list to store city names.\n",
    "# We iterate through the coordinates, as in our practice, and retrieve the nearest city using the latitude and longitude pair.\n",
    "# We add a decision statement with the logical operator not in to determine whether the found city is already in the cities list. If not, then we'll use the append() function to add it. We are doing this because among the 1,500 latitudes and longitudes, there might be duplicates, which will retrieve duplicate cities, and we want to be sure we capture only the unique cities."
   ]
  },
  {
   "cell_type": "code",
   "execution_count": 15,
   "id": "351330c1",
   "metadata": {},
   "outputs": [],
   "source": [
    "# NOTE: The citipy module finds the nearest city to the latitude and longitude pair with a population of 500 or more.\n"
   ]
  },
  {
   "cell_type": "code",
   "execution_count": 16,
   "id": "92119c82",
   "metadata": {},
   "outputs": [],
   "source": [
    "# FINDING: When you run the code block, you should get slightly more than 500 unique cities. If you get fewer than 500, increase your size limit on the np.random.uniform() function.\n"
   ]
  },
  {
   "cell_type": "code",
   "execution_count": 17,
   "id": "15c6989c",
   "metadata": {},
   "outputs": [],
   "source": [
    "# 6.2.1 Understanding APIs\n",
    "# Time to get some weather data. During a brainstorming session with Jack, you decide to use the OpenWeatherMap Application Programming Interface (API) to get the weather data for your database. Of course, now comes the tricky part: actually getting the data. You know you can do this using an API–but how do you use an API? Time to dig back in. The weather data is visually displayed on maps for the customer. But, in order for that to happen, you'll need to retrieve the weather from each city in your database. Since this is your first time using an API to get data from a server, your manager would like you to review APIs and how your company retrieves the data.\n",
    "# When a client uses our company's website to search for hotels, our search engine will gather information from a variety of websites based on the client's preferences through APIs. An API call is very similar to navigating to a website. An API points to a URL and collects some data from the webpage or server.\n",
    "# When clients request information from our server through our website, they are making an API call. Once our database has the client's search criteria, our servers search the web for hotels on behalf of the client. Now the roles are reversed: our company is the client requesting information, and all the websites where we derive information are the servers.\n",
    "# Using an API has its limitations because not all information from a server is accessible. Most APIs have tiered services, from free to paid. Free services allow access to limited information, and paid subscriptions provide more access based on the payment plan. Our company has a paid subscription for APIs, but we can only get certain information from websites on hotels such as location, accessibility, rooms, prices, services, and amenities, as well as regional weather data.\n",
    "# Now that you have a general concept of how APIs work, let's register for an OpenWeatherMap API key, a token granting access, and use it to retrieve weather data.\n"
   ]
  },
  {
   "cell_type": "code",
   "execution_count": 18,
   "id": "1e38c319",
   "metadata": {},
   "outputs": [],
   "source": [
    "# 6.2.2 Get Started with OpenWeatherMap API\n",
    "# Awesome. You get it—mostly. We'll use the API setup to go out and get information when our clients ask us for it. So, now it's time to download the Python Requests Library and register for an API key.\n",
    "# Register for an API Key\n",
    "# Follow these steps to register for an OpenweatherMap API key:\n",
    "    #Navigate to the OpenWeatherMap website (Links to an external site.).\n",
    "    #Click \"sign up.\"\n",
    "    #Complete the form Create New Account.\n",
    "    #Once you have a new account, sign in and click on \"API keys.\"\n",
    "    #The site will likely generate an API key automatically. If not, under \"Create key,\" type a name in the available cell and click \"Generate\" to create an API key.\n",
    "    #Save your API key to a Python file, which we'll add as a dependency to your WeatherPy.ipynb file.\n",
    "        #Navigate to your World_Weather_Analysis folder and launch Jupyter Notebook.\n",
    "        #Click the New button and select Text File.\n",
    "        #Rename the text file config.py.\n",
    "        #On the first line, type weather_api_key=\"\" and add your API key between the double quotation marks.\n",
    "        #Save and close the config.py file.\n",
    "        #Click on \"Services\" for details on your free subscription and its limitations.\n",
    "        #Click on \"View\" to see more options on your plan, and then click on \"Current weather API\" to see how to get the current weather from a city.\n",
    "        #We'll refer to this documentation when we make an API call to the server."
   ]
  },
  {
   "cell_type": "code",
   "execution_count": 19,
   "id": "1eb595d0",
   "metadata": {},
   "outputs": [],
   "source": [
    "# NOTE: You can also create the config.py file using VS Code."
   ]
  },
  {
   "cell_type": "code",
   "execution_count": 20,
   "id": "cfbdd5d4",
   "metadata": {},
   "outputs": [],
   "source": [
    "# IMPORTANT: Don't share your API key with anyone, and do not add the config.py file to your GitHub repository–someone might copy and use it, and you could incur charges on your credit card."
   ]
  },
  {
   "cell_type": "code",
   "execution_count": 21,
   "id": "6737dbad",
   "metadata": {},
   "outputs": [],
   "source": [
    "# The JavaScript Object Notation Format for API Data\n",
    "# The API has reached the website or server, its endpoint, and now we can retrieve data from the website. When we retrieve data from a website, we have to make a \"request,\" which returns data in a text format, not in a tab- or comma-separated file.\n",
    "# One format we can use to parse data is JavaScript Object Notation (JSON). The JSON format is also referred to as an \"object\" or \"JSON object.\" The data inside a JSON object opens and closes with curly braces, much like a Python dictionary. Inside the JSON object is a collection of dictionaries and arrays.\n"
   ]
  },
  {
   "cell_type": "code",
   "execution_count": 22,
   "id": "158ae2fd",
   "metadata": {},
   "outputs": [],
   "source": [
    "# The Python Requests Library\n",
    "# To request JSON data over the internet, we use the Requests Library in Python. The Anaconda installation comes with version 2.22 of the Requests Library.\n",
    "# Confirm you have the latest version of the Requests Library using the command line, or in the Jupyter Notebook environment. Follow the instructions for your operating system.\n",
    "# macOS\n",
    "    #Launch the command line and activate your PythonData environment.\n",
    "    #After the prompt, type $ python to launch Python.\n",
    "    #After the Python prompt, >>>, type import requests and press Enter.\n",
    "    #On the next line, type requests.__version__ and press Enter.\n",
    "    #The output should be version 2.22.0 or later.\n",
    "\n",
    "#Alternatively, you can check the version of request in Jupyter Notebook.\n",
    "\n",
    "#In Jupyter Notebook, create a new file if one hasn't been created. Add the following code to the new cell and run it.\n",
    "    # import requests\n",
    "    #requests.__version__\n",
    "# The output should be 2.22.0 or later.\n",
    "# If you have an older version, please upgrade it in your PythonData environment by typing conda install -c conda-forge requests at the command prompt and press Enter.\n"
   ]
  },
  {
   "cell_type": "code",
   "execution_count": 23,
   "id": "a222dbf7",
   "metadata": {},
   "outputs": [
    {
     "data": {
      "text/plain": [
       "'2.25.1'"
      ]
     },
     "execution_count": 23,
     "metadata": {},
     "output_type": "execute_result"
    }
   ],
   "source": [
    "import requests\n",
    "requests.__version__"
   ]
  },
  {
   "cell_type": "code",
   "execution_count": 24,
   "id": "a1dabbe4",
   "metadata": {},
   "outputs": [],
   "source": [
    "# 6.2.3 Make an API Call\n",
    "# You're about to start just trying random functions to see what works when Jack texts you and tells you your company has a free in-house API tutorial that was designed to teach new team members how to do this very thing. And it gets better–he sent you the link to the tutorial, too. Excited, you click through to access the API tutorial.\n",
    "\n",
    "# continued in API_practice...."
   ]
  },
  {
   "cell_type": "code",
   "execution_count": 25,
   "id": "3434b3e5",
   "metadata": {},
   "outputs": [],
   "source": [
    "# continued from API_practice\n",
    "# We will now work in our WeatherPy.ipynb file. Before continuing, make sure the following tasks are completed:\n",
    "\n",
    "# Import your Requests Library and the weather_api_key.\n",
    "# Import the requests library.\n",
    "import requests\n",
    "# Import the API key.\n",
    "from config import weather_api_key\n",
    "# Import the datetime module from the datetime library.\n",
    "from datetime import datetime\n",
    "\n",
    "# Build the basic URL for the OpenWeatherMap with your weather_api_key added to the URL.\n",
    "url = \"http://api.openweathermap.org/data/2.5/weather?units=Imperial&APPID=\" + weather_api_key\n"
   ]
  },
  {
   "cell_type": "code",
   "execution_count": 26,
   "id": "437bb413",
   "metadata": {},
   "outputs": [
    {
     "name": "stdout",
     "output_type": "stream",
     "text": [
      "Beginning Data Retrieval     \n",
      "-----------------------------\n"
     ]
    }
   ],
   "source": [
    "# Create an empty list to hold the weather data.\n",
    "city_data = []\n",
    "# Print the beginning of the logging.\n",
    "print(\"Beginning Data Retrieval     \")\n",
    "print(\"-----------------------------\")\n",
    "\n",
    "# Create counters.\n",
    "record_count = 1\n",
    "set_count = 1\n"
   ]
  },
  {
   "cell_type": "code",
   "execution_count": 27,
   "id": "17c9f332",
   "metadata": {},
   "outputs": [
    {
     "name": "stdout",
     "output_type": "stream",
     "text": [
      "Processing Record 1 of Set 14 | almenara\n",
      "Processing Record 1 of Set 27 | almenara\n",
      "Processing Record 1 of Set 40 | almenara\n",
      "Processing Record 1 of Set 53 | almenara\n",
      "Processing Record 1 of Set 66 | almenara\n",
      "Processing Record 1 of Set 79 | almenara\n",
      "Processing Record 1 of Set 92 | almenara\n",
      "Processing Record 1 of Set 105 | almenara\n",
      "Processing Record 1 of Set 118 | almenara\n",
      "Processing Record 1 of Set 131 | almenara\n",
      "Processing Record 1 of Set 144 | almenara\n",
      "Processing Record 1 of Set 157 | almenara\n",
      "-----------------------------\n",
      "Data Retrieval Complete      \n",
      "-----------------------------\n"
     ]
    }
   ],
   "source": [
    "# Loop Through the List of Cities and Build the City URL\n",
    "# Loop through all the cities in our list.\n",
    "for i in range(len(cities)):\n",
    "\n",
    "    # Group cities in sets of 50 for logging purposes.\n",
    "    if (i % 50 == 0 and i >= 50):\n",
    "        set_count += 1\n",
    "        record_count = 1\n",
    "        \n",
    "        # Loop through all the cities in the list.\n",
    "        for i, city in enumerate(cities):\n",
    "\n",
    "            # Group cities in sets of 50 for logging purposes.\n",
    "            if (i % 50 == 0 and i >= 50):\n",
    "                set_count += 1\n",
    "                record_count = 1\n",
    "    \n",
    "        # Create endpoint URL with each city.\n",
    "        city_url = url + \"&q=\" + city.replace(\" \",\"+\")\n",
    "\n",
    "        # Log the URL, record, and set numbers and the city.\n",
    "        print(f\"Processing Record {record_count} of Set {set_count} | {city}\")\n",
    "        # Add 1 to the record count.\n",
    "        record_count += 1\n",
    "    \n",
    "        # added from try-except module directions after original code block\n",
    "        # Run an API request for each of the cities.\n",
    "        try:\n",
    "            # Parse the JSON and retrieve data.\n",
    "            city_weather = requests.get(city_url).json()\n",
    "            # Parse out the needed data.\n",
    "            city_lat = city_weather[\"coord\"][\"lat\"]\n",
    "            city_lng = city_weather[\"coord\"][\"lon\"]\n",
    "            city_max_temp = city_weather[\"main\"][\"temp_max\"]\n",
    "            city_humidity = city_weather[\"main\"][\"humidity\"]\n",
    "            city_clouds = city_weather[\"clouds\"][\"all\"]\n",
    "            city_wind = city_weather[\"wind\"][\"speed\"]\n",
    "            city_country = city_weather[\"sys\"][\"country\"]\n",
    "            # Convert the date to ISO standard.\n",
    "            city_date = datetime.utcfromtimestamp(city_weather[\"dt\"]).strftime('%Y-%m-%d %H:%M:%S')\n",
    "            # Append the city information into city_data list.\n",
    "            city_data.append({\"City\": city.title(),\n",
    "                                \"Lat\": city_lat,\n",
    "                                \"Lng\": city_lng,\n",
    "                                \"Max Temp\": city_max_temp,\n",
    "                                \"Humidity\": city_humidity,\n",
    "                                \"Cloudiness\": city_clouds,\n",
    "                                \"Wind Speed\": city_wind,\n",
    "                                \"Country\": city_country,\n",
    "                                \"Date\": city_date})\n",
    "\n",
    "        # If an error is experienced, skip the city.\n",
    "        except:\n",
    "            print(\"City not found. Skipping...\")\n",
    "            pass\n",
    "\n",
    "# Indicate that Data Loading is complete.\n",
    "print(\"-----------------------------\")\n",
    "print(\"Data Retrieval Complete      \")\n",
    "print(\"-----------------------------\")\n",
    "    \n",
    "# end of added block of code from try except \n",
    "    \n",
    "# Create endpoint URL with each city.\n",
    "city_url = url + \"&q=\" + cities[i]"
   ]
  },
  {
   "cell_type": "code",
   "execution_count": 28,
   "id": "58285548",
   "metadata": {},
   "outputs": [],
   "source": [
    "# The syntax for the enumerate() method is the following:\n",
    "# for i, item in enumerate(list):"
   ]
  },
  {
   "cell_type": "code",
   "execution_count": 29,
   "id": "89a25e91",
   "metadata": {},
   "outputs": [],
   "source": [
    "#for i, item in enumerate(list):"
   ]
  },
  {
   "cell_type": "code",
   "execution_count": 30,
   "id": "c773c733",
   "metadata": {},
   "outputs": [],
   "source": [
    "# Handle API Request Errors with try-except Blocks\n",
    "# We have handled request errors for getting the response from a valid city with an API call using conditional statements. Now we'll learn how to handle errors while parsing weather data from a JSON file.\n",
    "# We'll add a try-except block to our code to prevent the API request from stopping prematurely if the city_weather request isn't a valid response. If the request isn't valid, the code will not find the first item requested, which is the dictionary \"coord\" with the code city_lat = city_weather[\"coord\"][\"lat\"], and skip the city and continue to run.\n",
    "# The try-except block has similar syntax and structure as the if-else statement. The basic format is as follows:\n",
    "##try:\n",
    "##  Do something\n",
    "##except:\n",
    "##  print(\"An exception occurred\")\n",
    "# We can add a try-except block to our code and, below the tryblock, we will parse the data from the JSON file and add the data to the cities list.\n",
    "# Let's add a try block. Then, below the try block, do the following:\n",
    "    # Parse the JSON file.\n",
    "    # Assign variables for each piece of data we need.\n",
    "    # Add the data to the cities list in a dictionary format.\n",
    "# Add the following code after record_count += 1\n",
    "\n"
   ]
  },
  {
   "cell_type": "code",
   "execution_count": 31,
   "id": "5877fcdb",
   "metadata": {},
   "outputs": [],
   "source": [
    "# Let's review the code:\n",
    "\n",
    "    # We parse the JSON file for the current city.\n",
    "    # If there is no weather data for the city, i.e. , a <Response [404]> then there is no weather to retrieve and City not found. Skipping... is printed.\n",
    "    # If there is weather data for the city, we will retrieve the latitude, longitude, maximum temperature, humidity, cloudiness, wind speed, and date and assign those values to variables.\n",
    "    # We could write a try-except block for each one of these parameters to handle the KeyError if the data wasn't found, but since these parameters are always present in the response this won't be necessary.\n",
    "    # We append the cities list with a dictionary for that city, where the key-value pairs are the values from our weather parameters.\n",
    "    # Finally, below the try block and after the except block, we add the closing print statement, which will let us know the data retrieval has been completed. Make sure that your except block is indented and in line with the try block, and that the print statements are flush with the margin.\n",
    "    # Under the print statement in the except block, we add the pass statement, which is a general purpose statement to handle all errors encountered and to allow the program to continue.\n"
   ]
  },
  {
   "cell_type": "code",
   "execution_count": 32,
   "id": "f9a167a1",
   "metadata": {},
   "outputs": [],
   "source": [
    "# IMPORTANT: Generally, it isn't good coding practice to add the pass statement to the except block. Ideally, we want to handle or catch each error as it happens and do something specific (e.g., add another try block or print out the error).\n"
   ]
  },
  {
   "cell_type": "code",
   "execution_count": 33,
   "id": "1f7d5117",
   "metadata": {},
   "outputs": [],
   "source": [
    "# Now you have all your code to perform the API calls for each city and parse the JSON data. Let's run the cell!\n",
    "# **above code block"
   ]
  },
  {
   "cell_type": "code",
   "execution_count": 34,
   "id": "0cb6f28f",
   "metadata": {},
   "outputs": [],
   "source": [
    "# After collecting all our data, we can tally the number of cities in the city_data array of dictionaries using the len() function.\n",
    "\n",
    "# IMPORTANT: If you didn't get more than 500 cities, run the code to generate random latitude and longitude combinations and all the code below it. Or increase the size of the latitude and longitude combinations.\n",
    "\n",
    "# NOTE: For more information about the try-except blocks, see the documentation on errors and exceptions (Links to an external site.).\n"
   ]
  },
  {
   "cell_type": "code",
   "execution_count": 35,
   "id": "92a02d8f",
   "metadata": {},
   "outputs": [],
   "source": [
    "# 6.2.7 Create a DataFrame of City Weather Data\n",
    "# You have the data in a list of dictionaries, which is a format that you can use to create a Pandas DataFrame. You will also need to export the DataFrame as a CSV file for Jack.\n",
    "# Our next steps will entail converting the array of dictionaries to a DataFrame, ensuring the columns are in the correct order, and exporting the DataFrame to a comma-separated (CSV) file.\n",
    "\n",
    "# REWIND: Recall that we can convert a list of dictionaries to a Pandas DataFrame using df = pd.DataFrame(list with dictionaries).\n"
   ]
  },
  {
   "cell_type": "code",
   "execution_count": 36,
   "id": "ff5612b8",
   "metadata": {},
   "outputs": [
    {
     "data": {
      "text/html": [
       "<div>\n",
       "<style scoped>\n",
       "    .dataframe tbody tr th:only-of-type {\n",
       "        vertical-align: middle;\n",
       "    }\n",
       "\n",
       "    .dataframe tbody tr th {\n",
       "        vertical-align: top;\n",
       "    }\n",
       "\n",
       "    .dataframe thead th {\n",
       "        text-align: right;\n",
       "    }\n",
       "</style>\n",
       "<table border=\"1\" class=\"dataframe\">\n",
       "  <thead>\n",
       "    <tr style=\"text-align: right;\">\n",
       "      <th></th>\n",
       "      <th>City</th>\n",
       "      <th>Lat</th>\n",
       "      <th>Lng</th>\n",
       "      <th>Max Temp</th>\n",
       "      <th>Humidity</th>\n",
       "      <th>Cloudiness</th>\n",
       "      <th>Wind Speed</th>\n",
       "      <th>Country</th>\n",
       "      <th>Date</th>\n",
       "    </tr>\n",
       "  </thead>\n",
       "  <tbody>\n",
       "    <tr>\n",
       "      <td>0</td>\n",
       "      <td>Almenara</td>\n",
       "      <td>-16.1836</td>\n",
       "      <td>-40.6944</td>\n",
       "      <td>87.55</td>\n",
       "      <td>46</td>\n",
       "      <td>91</td>\n",
       "      <td>6.24</td>\n",
       "      <td>BR</td>\n",
       "      <td>2021-10-08 17:00:37</td>\n",
       "    </tr>\n",
       "    <tr>\n",
       "      <td>1</td>\n",
       "      <td>Almenara</td>\n",
       "      <td>-16.1836</td>\n",
       "      <td>-40.6944</td>\n",
       "      <td>87.55</td>\n",
       "      <td>46</td>\n",
       "      <td>91</td>\n",
       "      <td>6.24</td>\n",
       "      <td>BR</td>\n",
       "      <td>2021-10-08 17:00:37</td>\n",
       "    </tr>\n",
       "    <tr>\n",
       "      <td>2</td>\n",
       "      <td>Almenara</td>\n",
       "      <td>-16.1836</td>\n",
       "      <td>-40.6944</td>\n",
       "      <td>87.55</td>\n",
       "      <td>46</td>\n",
       "      <td>91</td>\n",
       "      <td>6.24</td>\n",
       "      <td>BR</td>\n",
       "      <td>2021-10-08 17:00:37</td>\n",
       "    </tr>\n",
       "    <tr>\n",
       "      <td>3</td>\n",
       "      <td>Almenara</td>\n",
       "      <td>-16.1836</td>\n",
       "      <td>-40.6944</td>\n",
       "      <td>87.55</td>\n",
       "      <td>46</td>\n",
       "      <td>91</td>\n",
       "      <td>6.24</td>\n",
       "      <td>BR</td>\n",
       "      <td>2021-10-08 17:00:37</td>\n",
       "    </tr>\n",
       "    <tr>\n",
       "      <td>4</td>\n",
       "      <td>Almenara</td>\n",
       "      <td>-16.1836</td>\n",
       "      <td>-40.6944</td>\n",
       "      <td>87.55</td>\n",
       "      <td>46</td>\n",
       "      <td>91</td>\n",
       "      <td>6.24</td>\n",
       "      <td>BR</td>\n",
       "      <td>2021-10-08 17:00:37</td>\n",
       "    </tr>\n",
       "    <tr>\n",
       "      <td>5</td>\n",
       "      <td>Almenara</td>\n",
       "      <td>-16.1836</td>\n",
       "      <td>-40.6944</td>\n",
       "      <td>87.55</td>\n",
       "      <td>46</td>\n",
       "      <td>91</td>\n",
       "      <td>6.24</td>\n",
       "      <td>BR</td>\n",
       "      <td>2021-10-08 17:00:37</td>\n",
       "    </tr>\n",
       "    <tr>\n",
       "      <td>6</td>\n",
       "      <td>Almenara</td>\n",
       "      <td>-16.1836</td>\n",
       "      <td>-40.6944</td>\n",
       "      <td>87.55</td>\n",
       "      <td>46</td>\n",
       "      <td>91</td>\n",
       "      <td>6.24</td>\n",
       "      <td>BR</td>\n",
       "      <td>2021-10-08 17:00:37</td>\n",
       "    </tr>\n",
       "    <tr>\n",
       "      <td>7</td>\n",
       "      <td>Almenara</td>\n",
       "      <td>-16.1836</td>\n",
       "      <td>-40.6944</td>\n",
       "      <td>87.55</td>\n",
       "      <td>46</td>\n",
       "      <td>91</td>\n",
       "      <td>6.24</td>\n",
       "      <td>BR</td>\n",
       "      <td>2021-10-08 17:00:37</td>\n",
       "    </tr>\n",
       "    <tr>\n",
       "      <td>8</td>\n",
       "      <td>Almenara</td>\n",
       "      <td>-16.1836</td>\n",
       "      <td>-40.6944</td>\n",
       "      <td>87.55</td>\n",
       "      <td>46</td>\n",
       "      <td>91</td>\n",
       "      <td>6.24</td>\n",
       "      <td>BR</td>\n",
       "      <td>2021-10-08 17:00:37</td>\n",
       "    </tr>\n",
       "    <tr>\n",
       "      <td>9</td>\n",
       "      <td>Almenara</td>\n",
       "      <td>-16.1836</td>\n",
       "      <td>-40.6944</td>\n",
       "      <td>87.55</td>\n",
       "      <td>46</td>\n",
       "      <td>91</td>\n",
       "      <td>6.24</td>\n",
       "      <td>BR</td>\n",
       "      <td>2021-10-08 17:00:37</td>\n",
       "    </tr>\n",
       "  </tbody>\n",
       "</table>\n",
       "</div>"
      ],
      "text/plain": [
       "       City      Lat      Lng  Max Temp  Humidity  Cloudiness  Wind Speed  \\\n",
       "0  Almenara -16.1836 -40.6944     87.55        46          91        6.24   \n",
       "1  Almenara -16.1836 -40.6944     87.55        46          91        6.24   \n",
       "2  Almenara -16.1836 -40.6944     87.55        46          91        6.24   \n",
       "3  Almenara -16.1836 -40.6944     87.55        46          91        6.24   \n",
       "4  Almenara -16.1836 -40.6944     87.55        46          91        6.24   \n",
       "5  Almenara -16.1836 -40.6944     87.55        46          91        6.24   \n",
       "6  Almenara -16.1836 -40.6944     87.55        46          91        6.24   \n",
       "7  Almenara -16.1836 -40.6944     87.55        46          91        6.24   \n",
       "8  Almenara -16.1836 -40.6944     87.55        46          91        6.24   \n",
       "9  Almenara -16.1836 -40.6944     87.55        46          91        6.24   \n",
       "\n",
       "  Country                 Date  \n",
       "0      BR  2021-10-08 17:00:37  \n",
       "1      BR  2021-10-08 17:00:37  \n",
       "2      BR  2021-10-08 17:00:37  \n",
       "3      BR  2021-10-08 17:00:37  \n",
       "4      BR  2021-10-08 17:00:37  \n",
       "5      BR  2021-10-08 17:00:37  \n",
       "6      BR  2021-10-08 17:00:37  \n",
       "7      BR  2021-10-08 17:00:37  \n",
       "8      BR  2021-10-08 17:00:37  \n",
       "9      BR  2021-10-08 17:00:37  "
      ]
     },
     "execution_count": 36,
     "metadata": {},
     "output_type": "execute_result"
    }
   ],
   "source": [
    "# In a new cell, add the following code to convert the array of dictionaries to a Pandas DataFrame and run the cell.\n",
    "# Convert the array of dictionaries to a Pandas DataFrame.\n",
    "city_data_df = pd.DataFrame(city_data)\n",
    "city_data_df.head(10)\n"
   ]
  },
  {
   "cell_type": "code",
   "execution_count": 37,
   "id": "65a7a98d",
   "metadata": {},
   "outputs": [
    {
     "data": {
      "text/html": [
       "<div>\n",
       "<style scoped>\n",
       "    .dataframe tbody tr th:only-of-type {\n",
       "        vertical-align: middle;\n",
       "    }\n",
       "\n",
       "    .dataframe tbody tr th {\n",
       "        vertical-align: top;\n",
       "    }\n",
       "\n",
       "    .dataframe thead th {\n",
       "        text-align: right;\n",
       "    }\n",
       "</style>\n",
       "<table border=\"1\" class=\"dataframe\">\n",
       "  <thead>\n",
       "    <tr style=\"text-align: right;\">\n",
       "      <th></th>\n",
       "      <th>City</th>\n",
       "      <th>Country</th>\n",
       "      <th>Date</th>\n",
       "      <th>Lat</th>\n",
       "      <th>Lng</th>\n",
       "      <th>Max Temp</th>\n",
       "      <th>Humidity</th>\n",
       "      <th>Cloudiness</th>\n",
       "      <th>Wind Speed</th>\n",
       "    </tr>\n",
       "  </thead>\n",
       "  <tbody>\n",
       "    <tr>\n",
       "      <td>0</td>\n",
       "      <td>Almenara</td>\n",
       "      <td>BR</td>\n",
       "      <td>2021-10-08 17:00:37</td>\n",
       "      <td>-16.1836</td>\n",
       "      <td>-40.6944</td>\n",
       "      <td>87.55</td>\n",
       "      <td>46</td>\n",
       "      <td>91</td>\n",
       "      <td>6.24</td>\n",
       "    </tr>\n",
       "    <tr>\n",
       "      <td>1</td>\n",
       "      <td>Almenara</td>\n",
       "      <td>BR</td>\n",
       "      <td>2021-10-08 17:00:37</td>\n",
       "      <td>-16.1836</td>\n",
       "      <td>-40.6944</td>\n",
       "      <td>87.55</td>\n",
       "      <td>46</td>\n",
       "      <td>91</td>\n",
       "      <td>6.24</td>\n",
       "    </tr>\n",
       "    <tr>\n",
       "      <td>2</td>\n",
       "      <td>Almenara</td>\n",
       "      <td>BR</td>\n",
       "      <td>2021-10-08 17:00:37</td>\n",
       "      <td>-16.1836</td>\n",
       "      <td>-40.6944</td>\n",
       "      <td>87.55</td>\n",
       "      <td>46</td>\n",
       "      <td>91</td>\n",
       "      <td>6.24</td>\n",
       "    </tr>\n",
       "    <tr>\n",
       "      <td>3</td>\n",
       "      <td>Almenara</td>\n",
       "      <td>BR</td>\n",
       "      <td>2021-10-08 17:00:37</td>\n",
       "      <td>-16.1836</td>\n",
       "      <td>-40.6944</td>\n",
       "      <td>87.55</td>\n",
       "      <td>46</td>\n",
       "      <td>91</td>\n",
       "      <td>6.24</td>\n",
       "    </tr>\n",
       "    <tr>\n",
       "      <td>4</td>\n",
       "      <td>Almenara</td>\n",
       "      <td>BR</td>\n",
       "      <td>2021-10-08 17:00:37</td>\n",
       "      <td>-16.1836</td>\n",
       "      <td>-40.6944</td>\n",
       "      <td>87.55</td>\n",
       "      <td>46</td>\n",
       "      <td>91</td>\n",
       "      <td>6.24</td>\n",
       "    </tr>\n",
       "    <tr>\n",
       "      <td>5</td>\n",
       "      <td>Almenara</td>\n",
       "      <td>BR</td>\n",
       "      <td>2021-10-08 17:00:37</td>\n",
       "      <td>-16.1836</td>\n",
       "      <td>-40.6944</td>\n",
       "      <td>87.55</td>\n",
       "      <td>46</td>\n",
       "      <td>91</td>\n",
       "      <td>6.24</td>\n",
       "    </tr>\n",
       "    <tr>\n",
       "      <td>6</td>\n",
       "      <td>Almenara</td>\n",
       "      <td>BR</td>\n",
       "      <td>2021-10-08 17:00:37</td>\n",
       "      <td>-16.1836</td>\n",
       "      <td>-40.6944</td>\n",
       "      <td>87.55</td>\n",
       "      <td>46</td>\n",
       "      <td>91</td>\n",
       "      <td>6.24</td>\n",
       "    </tr>\n",
       "    <tr>\n",
       "      <td>7</td>\n",
       "      <td>Almenara</td>\n",
       "      <td>BR</td>\n",
       "      <td>2021-10-08 17:00:37</td>\n",
       "      <td>-16.1836</td>\n",
       "      <td>-40.6944</td>\n",
       "      <td>87.55</td>\n",
       "      <td>46</td>\n",
       "      <td>91</td>\n",
       "      <td>6.24</td>\n",
       "    </tr>\n",
       "    <tr>\n",
       "      <td>8</td>\n",
       "      <td>Almenara</td>\n",
       "      <td>BR</td>\n",
       "      <td>2021-10-08 17:00:37</td>\n",
       "      <td>-16.1836</td>\n",
       "      <td>-40.6944</td>\n",
       "      <td>87.55</td>\n",
       "      <td>46</td>\n",
       "      <td>91</td>\n",
       "      <td>6.24</td>\n",
       "    </tr>\n",
       "    <tr>\n",
       "      <td>9</td>\n",
       "      <td>Almenara</td>\n",
       "      <td>BR</td>\n",
       "      <td>2021-10-08 17:00:37</td>\n",
       "      <td>-16.1836</td>\n",
       "      <td>-40.6944</td>\n",
       "      <td>87.55</td>\n",
       "      <td>46</td>\n",
       "      <td>91</td>\n",
       "      <td>6.24</td>\n",
       "    </tr>\n",
       "    <tr>\n",
       "      <td>10</td>\n",
       "      <td>Almenara</td>\n",
       "      <td>BR</td>\n",
       "      <td>2021-10-08 17:00:38</td>\n",
       "      <td>-16.1836</td>\n",
       "      <td>-40.6944</td>\n",
       "      <td>87.55</td>\n",
       "      <td>46</td>\n",
       "      <td>91</td>\n",
       "      <td>6.24</td>\n",
       "    </tr>\n",
       "    <tr>\n",
       "      <td>11</td>\n",
       "      <td>Almenara</td>\n",
       "      <td>BR</td>\n",
       "      <td>2021-10-08 17:00:38</td>\n",
       "      <td>-16.1836</td>\n",
       "      <td>-40.6944</td>\n",
       "      <td>87.55</td>\n",
       "      <td>46</td>\n",
       "      <td>91</td>\n",
       "      <td>6.24</td>\n",
       "    </tr>\n",
       "  </tbody>\n",
       "</table>\n",
       "</div>"
      ],
      "text/plain": [
       "        City Country                 Date      Lat      Lng  Max Temp  \\\n",
       "0   Almenara      BR  2021-10-08 17:00:37 -16.1836 -40.6944     87.55   \n",
       "1   Almenara      BR  2021-10-08 17:00:37 -16.1836 -40.6944     87.55   \n",
       "2   Almenara      BR  2021-10-08 17:00:37 -16.1836 -40.6944     87.55   \n",
       "3   Almenara      BR  2021-10-08 17:00:37 -16.1836 -40.6944     87.55   \n",
       "4   Almenara      BR  2021-10-08 17:00:37 -16.1836 -40.6944     87.55   \n",
       "5   Almenara      BR  2021-10-08 17:00:37 -16.1836 -40.6944     87.55   \n",
       "6   Almenara      BR  2021-10-08 17:00:37 -16.1836 -40.6944     87.55   \n",
       "7   Almenara      BR  2021-10-08 17:00:37 -16.1836 -40.6944     87.55   \n",
       "8   Almenara      BR  2021-10-08 17:00:37 -16.1836 -40.6944     87.55   \n",
       "9   Almenara      BR  2021-10-08 17:00:37 -16.1836 -40.6944     87.55   \n",
       "10  Almenara      BR  2021-10-08 17:00:38 -16.1836 -40.6944     87.55   \n",
       "11  Almenara      BR  2021-10-08 17:00:38 -16.1836 -40.6944     87.55   \n",
       "\n",
       "    Humidity  Cloudiness  Wind Speed  \n",
       "0         46          91        6.24  \n",
       "1         46          91        6.24  \n",
       "2         46          91        6.24  \n",
       "3         46          91        6.24  \n",
       "4         46          91        6.24  \n",
       "5         46          91        6.24  \n",
       "6         46          91        6.24  \n",
       "7         46          91        6.24  \n",
       "8         46          91        6.24  \n",
       "9         46          91        6.24  \n",
       "10        46          91        6.24  \n",
       "11        46          91        6.24  "
      ]
     },
     "execution_count": 37,
     "metadata": {},
     "output_type": "execute_result"
    }
   ],
   "source": [
    "# Next, we'll reorder the columns as City, Country, Date, Lat, Lng, Max Temp, Humidity, Cloudiness, and Wind Speed, so they are easy to read.\n",
    "\n",
    "# REWIND: Recall that to reorder the columns, we assign a variable to an array of the columns in the order we want them to appear:\n",
    "# new_column_order = [\"column2\", \"column4\", \"column1\"]\n",
    "# Then, we assign a new or the same DataFrame with new column order:\n",
    "# df = df[new_column_order]\n",
    "new_column_order = [\"City\", \"Country\", \"Date\", \"Lat\", \"Lng\", \"Max Temp\", \"Humidity\", \"Cloudiness\", \"Wind Speed\"]\n",
    "city_data_df = city_data_df[new_column_order]\n",
    "city_data_df"
   ]
  },
  {
   "cell_type": "code",
   "execution_count": 38,
   "id": "56b62deb",
   "metadata": {},
   "outputs": [],
   "source": [
    "# Lastly, following the instructions below, we'll create an output file to save the DataFrame as a CSV in a new folder for that file.\n",
    "# In our World_Weather_Analysis folder, create a new folder called \"weather_data.\" Add the following code to a new cell, run the cell, then confirm your CSV file is in the folder.\n",
    "# # Create the output file (CSV).\n",
    "output_data_file = \"weather_data/cities.csv\"\n",
    "# Export the City_Data into a CSV.\n",
    "city_data_df.to_csv(output_data_file, index_label=\"City_ID\")\n",
    "\n",
    "# The last line in the code block will export the DataFrame to a CSV file, with the index label (or column A) header as \"City_ID.\" If we ever need to export the CSV file to a DataFrame, that header will be present in the DataFrame.\n",
    "# We've completed our tasks for making API calls, parsing the response, and collecting the data for our project. Before we move on to graphing and statistical analysis, let's update our GitHub repository.\n"
   ]
  },
  {
   "cell_type": "code",
   "execution_count": 39,
   "id": "238f188a",
   "metadata": {},
   "outputs": [],
   "source": [
    "# Modify the .gitignore File\n",
    "# We don't want the config.py file containing the API key to be exposed to the public on GitHub, as this would mean anyone could copy and use our API key, possibly causing us to incur charges.\n",
    "# When we type git status in the command line, we can see all the files we have created so far that are untracked.\n",
    "# If we only wanted to add the WeatherPy.ipynb file to GitHub we could type: git add WeatherPy.ipynb\n",
    "# However, every time we want to add a new file or update current files to the repository, we have to add each file individually, which is time-consuming and cumbersome. Instead, we can add the files we don't want to track to the .gitignore file."
   ]
  },
  {
   "cell_type": "code",
   "execution_count": 40,
   "id": "5233c95a",
   "metadata": {},
   "outputs": [],
   "source": [
    "# REWIND: GitHub does not track files and extensions that are added to the .gitignore file."
   ]
  },
  {
   "cell_type": "code",
   "execution_count": 41,
   "id": "1a77de3c",
   "metadata": {},
   "outputs": [],
   "source": [
    "# Before we add our files to GitHub, let's add config.py to the .gitignore file. Follow these steps:\n",
    "    # Open your World_Weather_Analysis GitHub folder in VS Code.\n",
    "    # Open the .gitignore file, and on the first line type the following:\n",
    "        # Adding config.py file.\n",
    "        # config.py\n",
    "    # While the .gitignore file is open, add the API_practice.ipynb and random_numbers.ipynb files and save the file.\n",
    "    # In the command line, type git status and press Enter. The output should say the .gitignore file has been modified and the WeatherPy.ipynb file is untracked.\n",
    "    # Use git add, git commit, and git push to commit the modifications to .gitignore and the WeatherPy.ipynb file to GitHub.\n",
    "    "
   ]
  },
  {
   "cell_type": "code",
   "execution_count": 42,
   "id": "3af25ef7",
   "metadata": {},
   "outputs": [],
   "source": [
    "# 6.3.1 Plot Latitude vs. Temperature\n",
    "# After exporting your CSV file, you closed your laptop and headed home, confident in a good day's work. And, when you come into work the next day, you hear that someone else has been impressed with your work as well—Jack! In fact, Jack is so impressed that he wants to give you the opportunity to take the day to dedicate some time to a different project: creating a community outreach website for middle school STEM students.\n",
    "# This is an exciting project. These community-focused opportunities don't come around as often as you would like, and they are a great chance to get kids involved in STEM. Additionally, you work with other tech companies in the area, each taking on one aspect of the project.\n",
    "# Your company is going to focus on climate change, and since you know how to use Matplotlib, you decide to create some visualizations that showcase the weather parameters you retrieved with changing latitude for the 500-plus cities from all over the world. The students will then be able to use these visualizations to explore how weather parameters change based on latitude.\n",
    "\n",
    "# We are going to create a series of scatter plots for each weather parameter against the latitude for all the cities. The students will use these scatter plots to write a summary report on how different weather parameters change based on the latitude.\n",
    "# We'll create scatter plots for latitude vs. maximum temperature, humidity, cloudiness, and wind speed."
   ]
  },
  {
   "cell_type": "code",
   "execution_count": 43,
   "id": "9dc08230",
   "metadata": {},
   "outputs": [],
   "source": [
    "# REWIND: Recall that to create a scatter plot, we collect then add x- and y-axis data to plt.scatter()."
   ]
  },
  {
   "cell_type": "code",
   "execution_count": 44,
   "id": "8ab3a0b5",
   "metadata": {},
   "outputs": [],
   "source": [
    "# Get Data for Plotting\n",
    "# First, we'll retrieve the data we need to create our scatter plots. We will need latitude, maximum temperature, humidity, cloudiness, and wind speed from all the cities. Add the following code to a new cell and run the cell.\n",
    "\n",
    "# Extract relevant fields from the DataFrame for plotting.\n",
    "lats = city_data_df[\"Lat\"]\n",
    "max_temps = city_data_df[\"Max Temp\"]\n",
    "humidity = city_data_df[\"Humidity\"]\n",
    "cloudiness = city_data_df[\"Cloudiness\"]\n",
    "wind_speed = city_data_df[\"Wind Speed\"]"
   ]
  },
  {
   "cell_type": "code",
   "execution_count": 45,
   "id": "3ca835d2",
   "metadata": {},
   "outputs": [],
   "source": [
    "# Your final scatter plot will need the current date in the title. To add the current date, we will need to import the time module, rather than the datetime module that we used to convert the date. The time module is a standard Python library, so there is no need to install it.\n",
    "# In a new cell in our API_practice.ipynb file, we will import the time module and some code to practice how to use this module.\n",
    "# continued in API_practice.ipynb...."
   ]
  },
  {
   "cell_type": "code",
   "execution_count": 46,
   "id": "076bd66b",
   "metadata": {},
   "outputs": [
    {
     "data": {
      "image/png": "[encoded data removed]",
      "text/plain": [
       "<Figure size 432x288 with 1 Axes>"
      ]
     },
     "metadata": {
      "needs_background": "light"
     },
     "output_type": "display_data"
    }
   ],
   "source": [
    "# continued from API_practice.ipynb\n",
    "# In a new cell in WeatherPy, add the following code to create a scatter plot for the latitude vs. maximum temperature and run the cell.\n",
    "\n",
    "# Import time module\n",
    "import time\n",
    "\n",
    "# Build the scatter plot for latitude vs. max temperature.\n",
    "plt.scatter(lats,\n",
    "            max_temps,\n",
    "            edgecolor=\"black\", linewidths=1, marker=\"o\",\n",
    "            alpha=0.8, label=\"Cities\")\n",
    "\n",
    "# Incorporate the other graph properties.\n",
    "plt.title(f\"City Latitude vs. Max Temperature \"+ time.strftime(\"%x\"))\n",
    "plt.ylabel(\"Max Temperature (F)\")\n",
    "plt.xlabel(\"Latitude\")\n",
    "plt.grid(True)\n",
    "\n",
    "# Save the figure.\n",
    "plt.savefig(\"weather_data/Fig1.png\")\n",
    "\n",
    "# Show plot.\n",
    "plt.show()"
   ]
  },
  {
   "cell_type": "code",
   "execution_count": 47,
   "id": "c3152d3c",
   "metadata": {},
   "outputs": [],
   "source": [
    "# The balance of the scatter plots will share the same format. All we need to do is change the y-axis variable for each weather parameter. Let's create the scatter plots quickly by copying the code and changing the y-axis variable."
   ]
  },
  {
   "cell_type": "code",
   "execution_count": 48,
   "id": "2b5bd647",
   "metadata": {},
   "outputs": [],
   "source": [
    "# NOTE: For more information, see the documentation on the time module (Links to an external site.)."
   ]
  },
  {
   "cell_type": "code",
   "execution_count": 49,
   "id": "611ff0a2",
   "metadata": {},
   "outputs": [
    {
     "data": {
      "image/png": "[encoded data removed]",
      "text/plain": [
       "<Figure size 432x288 with 1 Axes>"
      ]
     },
     "metadata": {
      "needs_background": "light"
     },
     "output_type": "display_data"
    }
   ],
   "source": [
    "# 6.3.2 Plot Latitude vs. Humidity\n",
    "# Great job on the first scatter plot! Now, you need to create a scatter plot that compares the latitude vs. the humidity.\n",
    "# We can repurpose our code for the maximum temperature scatter plot and create a scatter plot for the latitude versus humidity.\n",
    "# In addition to changing the y-axis variable to \"humidity,\" we need to change the title to \"Humidity,\" and the y-axis label to \"Humidity (%).\"\n",
    "# In a new cell, add the following code and run the cell.\n",
    "\n",
    "# Build the scatter plots for latitude vs. humidity.\n",
    "plt.scatter(lats,\n",
    "            humidity,\n",
    "            edgecolor=\"black\", linewidths=1, marker=\"o\",\n",
    "            alpha=0.8, label=\"Cities\")\n",
    "\n",
    "# Incorporate the other graph properties.\n",
    "plt.title(f\"City Latitude vs. Humidity \"+ time.strftime(\"%x\"))\n",
    "plt.ylabel(\"Humidity (%)\")\n",
    "plt.xlabel(\"Latitude\")\n",
    "plt.grid(True)\n",
    "# Save the figure.\n",
    "plt.savefig(\"weather_data/Fig2.png\")\n",
    "# Show plot.\n",
    "plt.show()"
   ]
  },
  {
   "cell_type": "code",
   "execution_count": 50,
   "id": "6d6f8483",
   "metadata": {},
   "outputs": [
    {
     "data": {
      "image/png": "[encoded data removed]",
      "text/plain": [
       "<Figure size 432x288 with 1 Axes>"
      ]
     },
     "metadata": {
      "needs_background": "light"
     },
     "output_type": "display_data"
    }
   ],
   "source": [
    "# 6.3.3 Plot Latitude vs. Cloudiness\n",
    "# You have a few more plots to create, and you know that it's time to stay hyperfocused. Whenever you start reusing code, it gets a bit easier to make a mistake. These charts will be on a public website for all to see, so the stakes are high.\n",
    "# Let's refactor the code for our scatter plots by changing the y-axis variable to \"cloudiness,\" the title to \"Cloudiness (%),\" and the y-axis label to \"Cloudiness (%).\"\n",
    "# In a new cell, add the following code and run the cell.\n",
    "\n",
    "# Build the scatter plots for latitude vs. cloudiness.\n",
    "plt.scatter(lats,\n",
    "            cloudiness,\n",
    "            edgecolor=\"black\", linewidths=1, marker=\"o\",\n",
    "            alpha=0.8, label=\"Cities\")\n",
    "\n",
    "# Incorporate the other graph properties.\n",
    "plt.title(f\"City Latitude vs. Cloudiness (%) \"+ time.strftime(\"%x\"))\n",
    "plt.ylabel(\"Cloudiness (%)\")\n",
    "plt.xlabel(\"Latitude\")\n",
    "plt.grid(True)\n",
    "# Save the figure.\n",
    "plt.savefig(\"weather_data/Fig3.png\")\n",
    "# Show plot.\n",
    "plt.show()"
   ]
  },
  {
   "cell_type": "code",
   "execution_count": 51,
   "id": "09e1b6e7",
   "metadata": {},
   "outputs": [
    {
     "data": {
      "image/png": "[encoded data removed]",
      "text/plain": [
       "<Figure size 432x288 with 1 Axes>"
      ]
     },
     "metadata": {
      "needs_background": "light"
     },
     "output_type": "display_data"
    }
   ],
   "source": [
    "# 6.3.4 Plot Latitude vs. Wind Speed\n",
    "# You have one last scatter plot to make. If you can make it through this one, you'll be done with scatter plots for the day. Just be sure to upload them to GitHub so the team working on the STEM project can get them for the community outreach website!\n",
    "# Now, we can create our last scatter plot! Let's repurpose the code we have been using and change the y-axis variable to \"wind speed,\" the title to \"Wind Speed,\" and the y-axis label to \"Wind Speed (mph).\"\n",
    "# In a new cell, add the following code and run the cell.\n",
    "\n",
    "# Build the scatter plots for latitude vs. wind speed.\n",
    "plt.scatter(lats,\n",
    "            wind_speed,\n",
    "            edgecolor=\"black\", linewidths=1, marker=\"o\",\n",
    "            alpha=0.8, label=\"Cities\")\n",
    "\n",
    "# Incorporate the other graph properties.\n",
    "plt.title(f\"City Latitude vs. Wind Speed \"+ time.strftime(\"%x\"))\n",
    "plt.ylabel(\"Wind Speed (mph)\")\n",
    "plt.xlabel(\"Latitude\")\n",
    "plt.grid(True)\n",
    "# Save the figure.\n",
    "plt.savefig(\"weather_data/Fig4.png\")\n",
    "# Show plot.\n",
    "plt.show()\n"
   ]
  },
  {
   "cell_type": "code",
   "execution_count": 52,
   "id": "b6086039",
   "metadata": {},
   "outputs": [],
   "source": [
    "# Add your WeatherPy.ipynb file to your World_Weather_Analysis GitHub repository."
   ]
  },
  {
   "cell_type": "code",
   "execution_count": 53,
   "id": "9b2a7d64",
   "metadata": {},
   "outputs": [],
   "source": [
    "# 6.4.1 Use Linear Regression to Find the Relationship Between Variables\n",
    "# Jack loves your work on the scatter plots thus far, and the other tech companies were impressed, too. They ask you to put together something that can help the students explore how to determine correlations between weather data and latitude.\n",
    "# You and Jack decide to divide and conquer this task. He will write the piece on the scientific method and describe how to use linear regression on the scatter plots. You volunteer to use your scatter plot skills to create scatter plots for each weather parameter on the Northern and Southern Hemispheres. You'll need to also add a regression line equation and correlation coefficient to each scatter plot, so your first step is to brush up on linear regression. You know this is something Jack uses regularly, so you'll need to really understand it if you want to continue impressing the team.\n",
    "\n",
    "# Linear regression is used to find a relationship between a dependent variable and one or more independent variables. The trick is to find something (a dependent variable) that depends on something else (the independent variable) and plot that relationship.\n",
    "# For example, let's say we wanted to understand how weather affects ice cream sales. We would model the linear regression between temperature (the independent variable) and ice cream sales (the dependent variable). Our hypothesis about the relationship would be that as temperatures rise, as they do in summer, more ice cream is sold. We will learn more hypothesis testing and building models in later modules.\n",
    "# For your project, you've already been working with independent and dependent variables. We have enough data to test relationships by creating scatter plots as we've done for each weather parameter vs. latitude. Plotting the data is the first step in determining if there might be an association between the two variables. For our scatter plots, the independent variable is the latitude, plotted on the x-axis, as its value is fixed. When we change the latitude, temperature changes, making it the dependent variable."
   ]
  },
  {
   "cell_type": "code",
   "execution_count": 54,
   "id": "43605fab",
   "metadata": {},
   "outputs": [],
   "source": [
    "# IMPORTANT: Independent variable: the variable changed by the analyst to observe how it affects the dependent variable \n",
    "# IMPORTANT: Dependent variable: the variable tested by the analyst to observe how it is affected by the independent variable"
   ]
  },
  {
   "cell_type": "code",
   "execution_count": 55,
   "id": "5c194ba5",
   "metadata": {},
   "outputs": [],
   "source": [
    "# To determine if maximum temperature correlates to latitude, we can plot a linear regression line, a straight trendline predicting the average y-value, or dependent variable, for a given x-value, or independent variable. This line can be plotted using the equation y = mx + b, where \"m\" is the slope of the line and \"b\" is the y-intercept. For every x-value, or latitude we use in the equation, we will get a predicted temperature value.\n",
    "# To determine how strong the relationship is between the fitted line and the data, we find the correlation coefficient, or r-value. A correlation coefficient close to 1 shows a strong positive correlation, whereas close to –1 shows a strong negative correlation. A correlation coefficient close to zero is no correlation.\n",
    "# Let's practice using linear regression on fake weather data."
   ]
  },
  {
   "cell_type": "code",
   "execution_count": 56,
   "id": "4bd8c4c0",
   "metadata": {},
   "outputs": [],
   "source": [
    "# Practice Using Linear Regression\n",
    "# In a new cell of our random_numbers Jupyter Notebook file, we'll import the linear regression function from the SciPy statistics module.\n",
    "# continued in random_numbers"
   ]
  },
  {
   "cell_type": "code",
   "execution_count": 57,
   "id": "3e177225",
   "metadata": {},
   "outputs": [
    {
     "ename": "NameError",
     "evalue": "name 'x_values' is not defined",
     "output_type": "error",
     "traceback": [
      "\u001b[0;31m---------------------------------------------------------------------------\u001b[0m",
      "\u001b[0;31mNameError\u001b[0m                                 Traceback (most recent call last)",
      "\u001b[0;32m<ipython-input-57-2830d21683fd>\u001b[0m in \u001b[0;36m<module>\u001b[0;34m\u001b[0m\n\u001b[1;32m      8\u001b[0m \u001b[0;32mfrom\u001b[0m \u001b[0mscipy\u001b[0m\u001b[0;34m.\u001b[0m\u001b[0mstats\u001b[0m \u001b[0;32mimport\u001b[0m \u001b[0mlinregress\u001b[0m\u001b[0;34m\u001b[0m\u001b[0;34m\u001b[0m\u001b[0m\n\u001b[1;32m      9\u001b[0m \u001b[0;31m# Perform linear regression.\u001b[0m\u001b[0;34m\u001b[0m\u001b[0;34m\u001b[0m\u001b[0;34m\u001b[0m\u001b[0m\n\u001b[0;32m---> 10\u001b[0;31m \u001b[0;34m(\u001b[0m\u001b[0mslope\u001b[0m\u001b[0;34m,\u001b[0m \u001b[0mintercept\u001b[0m\u001b[0;34m,\u001b[0m \u001b[0mr_value\u001b[0m\u001b[0;34m,\u001b[0m \u001b[0mp_value\u001b[0m\u001b[0;34m,\u001b[0m \u001b[0mstd_err\u001b[0m\u001b[0;34m)\u001b[0m \u001b[0;34m=\u001b[0m \u001b[0mlinregress\u001b[0m\u001b[0;34m(\u001b[0m\u001b[0mx_values\u001b[0m\u001b[0;34m,\u001b[0m \u001b[0my_values\u001b[0m\u001b[0;34m)\u001b[0m\u001b[0;34m\u001b[0m\u001b[0;34m\u001b[0m\u001b[0m\n\u001b[0m\u001b[1;32m     11\u001b[0m \u001b[0;34m\u001b[0m\u001b[0m\n\u001b[1;32m     12\u001b[0m \u001b[0;31m# Calculate the regression line \"y values\" from the slope and intercept.\u001b[0m\u001b[0;34m\u001b[0m\u001b[0;34m\u001b[0m\u001b[0;34m\u001b[0m\u001b[0m\n",
      "\u001b[0;31mNameError\u001b[0m: name 'x_values' is not defined"
     ]
    }
   ],
   "source": [
    "# continued from random_numbers\n",
    "# 6.4.2 Find the Correlation Between Latitude and Maximum Temperature\n",
    "# Now that you are familiar with generating linear regression lines and equations, you can put this knowledge to work by generating a regression line for latitude and maximum temperature for the Northern and Southern Hemispheres.\n",
    "# Using the data from the Northern and Southern Hemispheres, we are going to perform linear regression on all four weather parameters: maximum temperature, humidity, cloudiness, and wind speed.\n",
    "# We have an algorithm that performs the linear regression; returns the equation of the regression line, and correlation coefficient, and p value; and adds the regression line to a scatter plot of city weather data. Below, the code looks like what we have used before.\n",
    "\n",
    "# Import linregress\n",
    "from scipy.stats import linregress\n",
    "# Perform linear regression.\n",
    "(slope, intercept, r_value, p_value, std_err) = linregress(x_values, y_values)\n",
    "\n",
    "# Calculate the regression line \"y values\" from the slope and intercept.\n",
    "regress_values = x_values * slope + intercept\n",
    "\n",
    "# Get the equation of the line.\n",
    "line_eq = \"y = \" + str(round(slope,2)) + \"x + \" + str(round(intercept,2))\n",
    "\n",
    "# Create a scatter plot of the x and y values.\n",
    "plt.scatter(x_values,y_values)\n",
    "# Plot the regression line with the x-values and the y coordinates based on the intercept and slope.\n",
    "plt.plot(x_values,regress_values,\"r\")\n",
    "# Annotate the text for the line equation and add its coordinates.\n",
    "plt.annotate(line_eq, (10,40), fontsize=15, color=\"red\")\n",
    "plt.title(title)\n",
    "plt.xlabel('Latitude')\n",
    "plt.ylabel('Temp')\n",
    "plt.show()\n",
    "\n",
    "\n",
    "# We will reuse this code with minor changes for each weather parameter in each hemisphere. The variables for each graph are as follows:\n",
    "    # The x values, the latitudes\n",
    "    # The y values, each of the four weather parameters\n",
    "    # The y label, the weather parameter being plotted\n",
    "    # The x- and y-values given as a tuple, (10,40), for the regression line equation to be placed on the scatter plot.\n",
    "# With only four small changes to the code, this is a great time to convert our linear regression calculation and plotting to a function! In the function, we can add these four parameters as variables, and when we call the function, pass values to those variables."
   ]
  },
  {
   "cell_type": "code",
   "execution_count": null,
   "id": "107fe58b",
   "metadata": {},
   "outputs": [],
   "source": [
    "# Create a Linear Regression Function\n",
    "# In a new cell of our WeatherPy.ipynb Jupyter Notebook file, let's create a function, \"plot_linear_regression\", and add the four parameters inside the parentheses. Our function should look like the following.\n",
    "# Create a function to create perform linear regression on the weather data\n",
    "# and plot a regression line and the equation with the data.\n",
    "def plot_linear_regression(x_values, y_values, title, y_label, text_coordinates):"
   ]
  },
  {
   "cell_type": "code",
   "execution_count": null,
   "id": "d20252b2",
   "metadata": {},
   "outputs": [],
   "source": [
    "# In our function, we have four parameters: x_values, y_values, y_label, and text_coordinates, and we will add a fifth parameter for the title, called, title. Now, add the algorithm we use to perform the linear regression underneath the function. Our function should look like the following.\n",
    "\n",
    "# Import linregress\n",
    "from scipy.stats import linregress\n",
    "\n",
    "# Create a function to create perform linear regression on the weather data\n",
    "# and plot a regression line and the equation with the data.\n",
    "def plot_linear_regression(x_values, y_values, title, y_label, text_coordinates):\n",
    "\n",
    "    # Run regression on hemisphere weather data.\n",
    "    (slope, intercept, r_value, p_value, std_err) = linregress(x_values, y_values)\n",
    "\n",
    "    # Calculate the regression line \"y values\" from the slope and intercept.\n",
    "    regress_values = x_values * slope + intercept\n",
    "    # Get the equation of the line.\n",
    "    line_eq = \"y = \" + str(round(slope,2)) + \"x + \" + str(round(intercept,2))\n",
    "    # Create a scatter plot and plot the regression line.\n",
    "    plt.scatter(x_values,y_values)\n",
    "    plt.plot(x_values,regress_values,\"r\")\n",
    "    # Annotate the text for the line equation.\n",
    "    plt.annotate(line_eq, text_coordinates, fontsize=15, color=\"red\")\n",
    "    plt.title(title)\n",
    "    plt.xlabel('Latitude')\n",
    "    plt.ylabel(y_label)\n",
    "    plt.show()\n",
    "    \n",
    "# If we run this code there will be no output until we call the function with five parameters.\n"
   ]
  },
  {
   "cell_type": "code",
   "execution_count": null,
   "id": "084f7a10",
   "metadata": {},
   "outputs": [],
   "source": [
    "# REWIND: To get an output from a function, we need to call the function with the correct number of parameters or arguments for the function."
   ]
  },
  {
   "cell_type": "code",
   "execution_count": null,
   "id": "1592ec24",
   "metadata": {},
   "outputs": [],
   "source": [
    "# To get an output from a function, we need to call the function with the correct number of parameters or arguments for the function.\n",
    "# We will add some code to perform regression analysis on the maximum temperatures in the Northern and Southern Hemispheres. To do this, we will need to create Northern Hemisphere DataFrames from the city_data_df DataFrame.\n",
    "# To create a new DataFrame from a current DataFrame, we can use the loc method on the current DataFrame. The loc method accesses a group of rows and columns in the current DataFrame by an index, labels, or a Boolean array. The syntax to get a specific row from a current DataFrame is row = df.loc[row_index].\n",
    "# Let's apply this method to our city_data_df DataFrame by adding the code index13 = city_data_df.loc[13] in a cell and running the cell. The output will present all the information at index 13 of the city_data_df DataFrame. Note that you may see a different city in your output cell than the one shown in the following image.\n",
    "\n",
    "index13 = city_data_df.loc[13]\n"
   ]
  },
  {
   "cell_type": "code",
   "execution_count": null,
   "id": "b4f956ea",
   "metadata": {},
   "outputs": [],
   "source": [
    "# We can also filter a DataFrame based on a value of a row. For instance, if we wanted to get all Northern Hemisphere latitudes, for latitudes greater than or equal to 0, we can filter the city_data_df DataFrame using the code city_data_df[\"Lat\"] >= 0. Executing this code will return either \"True\" or \"False\" for all the rows that meet these criteria.\n",
    "\n",
    "city_data_df[\"Lat\"] >= 0"
   ]
  },
  {
   "cell_type": "code",
   "execution_count": null,
   "id": "0ee3ed21",
   "metadata": {},
   "outputs": [],
   "source": [
    "# If we want to return a DataFrame with all data fitting the criteria, for latitudes greater than or equal to 0, we can use the loc method on the city_data_df DataFrame. Inside the brackets, we would add the conditional filter city_data_df[\"Lat\"] >= 0 so that our statement would appear as:\n",
    "\n",
    "city_data_df.loc[(city_data_df[\"Lat\"] >= 0)]"
   ]
  },
  {
   "cell_type": "code",
   "execution_count": null,
   "id": "42226b1a",
   "metadata": {},
   "outputs": [],
   "source": [
    "# Also, since this is a DataFrame, we can add the head() method at the end to get the first five rows, not counting the row of column headings.\n",
    "\n",
    "city_data_df.loc[(city_data_df[\"Lat\"] >= 0)].head()\n"
   ]
  },
  {
   "cell_type": "code",
   "execution_count": null,
   "id": "fb3bdb82",
   "metadata": {},
   "outputs": [],
   "source": [
    "# Now assign this DataFrame to the variable northern_hemi_df to access the data to perform linear regression.\n",
    "# We can take the same approach to get the cities for the Southern Hemisphere by filtering the city_data_df DataFrame for latitudes less than 0.\n",
    "# To create DataFrames for the Northern and Southern Hemispheres' data, add the code to a new cell and run the code.\n",
    "\n",
    "# Create Northern and Southern Hemisphere DataFrames.\n",
    "northern_hemi_df = city_data_df.loc[(city_data_df[\"Lat\"] >= 0)]\n",
    "southern_hemi_df = city_data_df.loc[(city_data_df[\"Lat\"] < 0)]\n",
    "\n",
    "# Now we can perform linear regression on latitude and maximum temperature from each hemisphere DataFrame.\n"
   ]
  },
  {
   "cell_type": "code",
   "execution_count": null,
   "id": "dd9a5242",
   "metadata": {},
   "outputs": [],
   "source": [
    "# Perform Linear Regression on the Maximum Temperature for the Northern Hemisphere\n",
    "# To generate the linear regression on the maximum temperature for the Northern Hemisphere, we'll need x and y values. Set the x values equal to the latitude column and the y values equal to the maximum temperature column from the northern_hemi_df DataFrame.\n",
    "# Call the plot_linear_regression function with the x and y values, and edit the title, y_label, and text_coordinates for the maximum temperature scatter plot. Add the code to a new cell and run it to generate the linear regression and plot the data.\n",
    "# Linear regression on the Northern Hemisphere\n",
    "x_values = northern_hemi_df[\"Lat\"]\n",
    "y_values = northern_hemi_df[\"Max Temp\"]\n",
    "# Call the function.\n",
    "plot_linear_regression(x_values, y_values,\n",
    "                       'Linear Regression on the Northern Hemisphere \\\n",
    "                        for Maximum Temperature', 'Max Temp',(10,40))"
   ]
  },
  {
   "cell_type": "code",
   "execution_count": null,
   "id": "0d040afe",
   "metadata": {},
   "outputs": [],
   "source": [
    "# NOTE: If the equation for the regression line doesn't show up on your graph, you can change the text_coordinates until you see the equation."
   ]
  },
  {
   "cell_type": "code",
   "execution_count": null,
   "id": "e8881f76",
   "metadata": {},
   "outputs": [],
   "source": [
    "# Perform Linear Regression on the Maximum Temperature for the Southern Hemisphere\n",
    "# Now we can generate linear regression on the maximum temperature for the Southern Hemisphere.\n",
    "# To generate the linear regression on the maximum temperature for the Southern Hemisphere, reuse the code for the Northern Hemisphere and replace the northern_hemi_df DataFrame with the southern_hemi_df DataFrame to get the x- and y-values.\n",
    "# Call the plot_linear_regression function with the x- and y-values, and edit the title, y_label, and text_coordinates for the maximum temperature scatter plot. Add the code to a new cell and run it to generate the linear regression and plot the data.\n",
    "\n",
    "# Linear regression on the Southern Hemisphere\n",
    "x_values = southern_hemi_df[\"Lat\"]\n",
    "y_values = southern_hemi_df[\"Max Temp\"]\n",
    "# Call the function.\n",
    "plot_linear_regression(x_values, y_values,\n",
    "                       'Linear Regression on the Southern Hemisphere \\n\n",
    "                        for Maximum Temperature', 'Max Temp',(-50,90))"
   ]
  },
  {
   "cell_type": "code",
   "execution_count": null,
   "id": "ac857e26",
   "metadata": {},
   "outputs": [],
   "source": [
    "# Congratulations! You have plotted the regression line and equation for latitude and maximum temperature for your Northern and Southern Hemispheres.\n",
    "\n",
    "# FINDING: The correlation between the latitude and the maximum temperature is strong to very strong because the r-value is less than –0.7 for the Northern Hemisphere and greater than 0.7 for the Southern Hemisphere, as shown by the plots here. This means that as we approach the equator, 0° latitude, the temperatures become warmer. And when we are further from the equator the temperatures become cooler. Check the r-values for your plots. "
   ]
  },
  {
   "cell_type": "code",
   "execution_count": null,
   "id": "dd3aa221",
   "metadata": {},
   "outputs": [],
   "source": [
    "# 6.4.3 Find the Correlation Between Latitude and Percent Humidity\n"
   ]
  },
  {
   "cell_type": "code",
   "execution_count": null,
   "id": "c457ee8a",
   "metadata": {},
   "outputs": [],
   "source": []
  },
  {
   "cell_type": "code",
   "execution_count": null,
   "id": "316f0d52",
   "metadata": {},
   "outputs": [],
   "source": []
  },
  {
   "cell_type": "code",
   "execution_count": null,
   "id": "7fca6eff",
   "metadata": {},
   "outputs": [],
   "source": []
  },
  {
   "cell_type": "code",
   "execution_count": null,
   "id": "c283066c",
   "metadata": {},
   "outputs": [],
   "source": []
  }
 ],
 "metadata": {
  "kernelspec": {
   "display_name": "PythonData",
   "language": "python",
   "name": "pythondata"
  },
  "language_info": {
   "codemirror_mode": {
    "name": "ipython",
    "version": 3
   },
   "file_extension": ".py",
   "mimetype": "text/x-python",
   "name": "python",
   "nbconvert_exporter": "python",
   "pygments_lexer": "ipython3",
   "version": "3.8.8"
  }
 },
 "nbformat": 4,
 "nbformat_minor": 5
}
