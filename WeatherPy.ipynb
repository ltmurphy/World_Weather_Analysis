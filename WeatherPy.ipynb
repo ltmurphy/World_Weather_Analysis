{
 "cells": [
  {
   "cell_type": "code",
   "execution_count": 2,
   "id": "90976aa5",
   "metadata": {},
   "outputs": [],
   "source": [
    "# 6.1.4 cont...\n",
    "# Create Latitude and Longitude Combinations\n",
    "# import the Pandas, Matplotlib, and NumPy dependencies\n",
    "\n",
    "# Import the dependencies.\n",
    "import pandas as pd\n",
    "import matplotlib.pyplot as plt\n",
    "import numpy as np"
   ]
  },
  {
   "cell_type": "code",
   "execution_count": 3,
   "id": "ed5cc678",
   "metadata": {},
   "outputs": [
    {
     "data": {
      "text/plain": [
       "<zip at 0x7fc69431d800>"
      ]
     },
     "execution_count": 3,
     "metadata": {},
     "output_type": "execute_result"
    }
   ],
   "source": [
    "# In the next cell, we'll add the code that generates the latitudes and longitudes, but first, they need to be stored so that we can access them later. Since we are creating arrays of latitudes and longitudes, we'll declare each array as a variable.\n",
    "# add the following code that we used to generate the random latitudes. Also, we'll create a similar code snippet that will generate longitudes. To ensure enough latitudes and longitudes, we'll start with 1,500. In addition, we'll pack the latitudes (lats) and longitudes (lngs) as pairs by zipping them (lat_lngs) with the zip() function.\n",
    "# When we run this cell, the output is a zip object in memory.\n",
    "\n",
    "# Create a set of random latitude and longitude combinations.\n",
    "lats = np.random.uniform(low=-90.000, high=90.000, size=1500)\n",
    "lngs = np.random.uniform(low=-180.000, high=180.000, size=1500)\n",
    "lat_lngs = zip(lats, lngs)\n",
    "lat_lngs"
   ]
  },
  {
   "cell_type": "code",
   "execution_count": 4,
   "id": "32d18cd2",
   "metadata": {},
   "outputs": [],
   "source": [
    "# The zip object packs each pair of lats and lngs having the same index in their respective array into a tuple. If there are 1,500 latitudes and longitudes, there will be 1,500 tuples of paired latitudes and longitudes, where each latitude and longitude in a tuple can be accessed by the index of 0 and 1, respectively.\n",
    "# Let's practice zipping a small number of latitudes and longitudes and then unpacking the zipped tuple to see how the packing and unpacking work.\n",
    "\n",
    "# continues in API_practice.ipynb"
   ]
  },
  {
   "cell_type": "code",
   "execution_count": 5,
   "id": "c4888dbc",
   "metadata": {},
   "outputs": [],
   "source": [
    "# picking up from API_practice.ipynb\n",
    "# Next, let's unpack our lat_lngs zip object into a list. This way, we only need to create a set of random latitudes and longitudes once.\n",
    "# Add the latitudes and longitudes to a list.\n",
    "coordinates = list(lat_lngs)\n"
   ]
  },
  {
   "cell_type": "code",
   "execution_count": 6,
   "id": "fee95362",
   "metadata": {},
   "outputs": [],
   "source": [
    "# NOTE: You can only unzip a zipped tuple once before it is removed from the computer's memory. Make sure you unzip the latitudes and longitudes into the coordinates list before moving on.\n"
   ]
  },
  {
   "cell_type": "code",
   "execution_count": 7,
   "id": "af172c2a",
   "metadata": {},
   "outputs": [],
   "source": [
    "# You lean back from your desk and reflect on the project thus far. Not only have you successfully navigated a quick return to the geographic coordinate system and the Earth's geography, you also wrote code to generate 1,500 latitudes and longitudes.\n",
    "# Now, as cool as this is, your clients aren't going to want information or suggestions provided to them in this format. So, it's time to get started on the next step in your project plan: match those coordinates up with cities.\n",
    "# We are making great progress. With our list of random latitudes and longitudes, we'll use the coordinates in our lat_lngs tuple to find the nearest city using Python's citipy module.\n",
    "# Since we haven't worked with the citipy module yet, let's import and test it. Citipy doesn't come with the Anaconda module, so we'll install it in our PythonData environment.\n",
    "# The citypy documentation (Links to an external site.) instructs us to install the citipy module by typing pip install citipy. To complete the installation, follow the instructions for your operating system.\n",
    "# To learn how to use citypy, click \"Homepage\" on the module webpage or see the GitHub citipy repository (Links to an external site.).\n",
    "# Select the README.md file on the citipy GitHub page for an example of how to use citipy to locate the nearest city and its country code from a pair of latitude and longitude coordinates.\n",
    "# Under \"Looking up with coordinates,\" the first line says from citipy import citipy, meaning we'll import the citipy script from the citipy module.\n",
    "# This script is located in the GitHub repository \n"
   ]
  },
  {
   "cell_type": "code",
   "execution_count": 8,
   "id": "0ea93001",
   "metadata": {},
   "outputs": [],
   "source": [
    "# NOTE: When a Python file containing a script is imported to use in another Python script, the .py extension does not need to be added to the name of the file when using the import statement.\n"
   ]
  },
  {
   "cell_type": "code",
   "execution_count": 9,
   "id": "b45a3e9d",
   "metadata": {},
   "outputs": [],
   "source": [
    "# Let's import the citipy script and practice using it. In our API_practice file, add a new cell and import the citipy.py script from the citipy module.\n",
    "# continued in API_practice"
   ]
  },
  {
   "cell_type": "code",
   "execution_count": 10,
   "id": "644e29af",
   "metadata": {},
   "outputs": [],
   "source": [
    "# 6.1.5 continued from API_practice\n",
    "# Now that we are familiar with using the citipy module, we can iterate through our zipped lat_lngs tuple and find the nearest city. When we find a city, we'll need to add it to a list so that we can use the cities to get the weather data.\n",
    "# First, import the citipy module\n",
    "from citipy import citipy"
   ]
  },
  {
   "cell_type": "code",
   "execution_count": 11,
   "id": "803ffb5f",
   "metadata": {},
   "outputs": [
    {
     "data": {
      "text/plain": [
       "607"
      ]
     },
     "execution_count": 11,
     "metadata": {},
     "output_type": "execute_result"
    }
   ],
   "source": [
    "# Create a list for holding the cities.\n",
    "cities = []\n",
    "# Identify the nearest city for each latitude and longitude combination.\n",
    "for coordinate in coordinates:\n",
    "    city = citipy.nearest_city(coordinate[0], coordinate[1]).city_name\n",
    "\n",
    "    # If the city is unique, then we will add it to the cities list.\n",
    "    if city not in cities:\n",
    "        cities.append(city)\n",
    "# Print the city count to confirm sufficient count.\n",
    "len(cities)"
   ]
  },
  {
   "cell_type": "code",
   "execution_count": 12,
   "id": "d59d6098",
   "metadata": {},
   "outputs": [],
   "source": [
    "# Some of this code should look familiar, but let's break it down:\n",
    "\n",
    "# We create a cities list to store city names.\n",
    "# We iterate through the coordinates, as in our practice, and retrieve the nearest city using the latitude and longitude pair.\n",
    "# We add a decision statement with the logical operator not in to determine whether the found city is already in the cities list. If not, then we'll use the append() function to add it. We are doing this because among the 1,500 latitudes and longitudes, there might be duplicates, which will retrieve duplicate cities, and we want to be sure we capture only the unique cities."
   ]
  },
  {
   "cell_type": "code",
   "execution_count": 13,
   "id": "351330c1",
   "metadata": {},
   "outputs": [],
   "source": [
    "# NOTE: The citipy module finds the nearest city to the latitude and longitude pair with a population of 500 or more.\n"
   ]
  },
  {
   "cell_type": "code",
   "execution_count": null,
   "id": "92119c82",
   "metadata": {},
   "outputs": [],
   "source": [
    "# FINDING: When you run the code block, you should get slightly more than 500 unique cities. If you get fewer than 500, increase your size limit on the np.random.uniform() function.\n"
   ]
  }
 ],
 "metadata": {
  "kernelspec": {
   "display_name": "PythonData",
   "language": "python",
   "name": "pythondata"
  },
  "language_info": {
   "codemirror_mode": {
    "name": "ipython",
    "version": 3
   },
   "file_extension": ".py",
   "mimetype": "text/x-python",
   "name": "python",
   "nbconvert_exporter": "python",
   "pygments_lexer": "ipython3",
   "version": "3.8.8"
  }
 },
 "nbformat": 4,
 "nbformat_minor": 5
}
