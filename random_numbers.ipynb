{
 "cells": [
  {
   "cell_type": "code",
   "execution_count": 38,
   "id": "f3533e35",
   "metadata": {},
   "outputs": [],
   "source": [
    "# 6.1.4 Generate Random Latitudes and Longitudes\n",
    "# Earth's surface is covered by 70% water while the rest is covered by land. So, we can assume 70% of the latitude and longitude coordinates we generate are positioned over a body of water, whether an ocean, major lake (e.g., Lake Superior), or major river (e.g., Amazon). Geographic coordinates over a body of water may not be close to a city, especially if in the middle of an ocean.\n",
    "# Seven continental landmasses comprise 30% of Earth's surface. Some land is uninhabitable or sparsely populated due to extreme terrain and climes (e.g., Sahara, Siberia, the Himalayas, and areas of the western United States).\n",
    "# First consider the bodies of water. Start with at least 1,500 latitudes and longitudes, because 500 divided by 0.3 (30% land mass) equals 1,666 latitudes and longitudes.\n",
    "# We'll generate random latitudes and longitudes to ensure coordinates are fairly distributed around the world. An algorithm will pick random numbers between the low and high values for latitudes and longitudes. Also, the latitudes and longitudes must be floating-point decimal numbers, as each angular unit of degrees, minutes, and seconds can be represented by a decimal number. For example, Kailua-Kona, Hawaii has the angular coordinates 19° 38' 23.9784'' north and 155° 59' 48.9588'' west and can be written as a decimal number as follows: 19.639994, -155.996933.\n",
    "# To generate random numbers, we can use the Python random module. This module is part of the Python and Anaconda installation, so we don't need to install it\n"
   ]
  },
  {
   "cell_type": "code",
   "execution_count": 39,
   "id": "7cfcec6b",
   "metadata": {},
   "outputs": [],
   "source": [
    "# import the dependencies\n",
    "# Import the random module.\n",
    "# Import the NumPy module.\n",
    "# Import timeit.\n",
    "\n",
    "import timeit\n",
    "\n",
    "import numpy as np\n",
    "\n",
    "import random"
   ]
  },
  {
   "cell_type": "code",
   "execution_count": 40,
   "id": "48a229fb",
   "metadata": {},
   "outputs": [],
   "source": [
    "# For testing, we'll use the randint(), random(), randrange(), and uniform() functions."
   ]
  },
  {
   "cell_type": "code",
   "execution_count": 41,
   "id": "a2491a66",
   "metadata": {},
   "outputs": [
    {
     "data": {
      "text/plain": [
       "-12"
      ]
     },
     "execution_count": 41,
     "metadata": {},
     "output_type": "execute_result"
    }
   ],
   "source": [
    "# The randint() Function\n",
    "# randint is short for \"random integer.\" In the second cell, after random., type randint(-90, 90), as shown below.\n",
    "# When we run this cell, we'll get a single integer between –90 and 90 because we need two latitudes between –90 and 90.\n",
    "\n",
    "random.randint(-90, 90)"
   ]
  },
  {
   "cell_type": "code",
   "execution_count": 42,
   "id": "31d67123",
   "metadata": {},
   "outputs": [
    {
     "data": {
      "text/plain": [
       "0.410352290521131"
      ]
     },
     "execution_count": 42,
     "metadata": {},
     "output_type": "execute_result"
    }
   ],
   "source": [
    "# The random() Function\n",
    "# Using the random() function, we can get a single floating-point decimal number between 0 and 1.0.\n",
    "\n",
    "random.random() "
   ]
  },
  {
   "cell_type": "code",
   "execution_count": 43,
   "id": "2f953812",
   "metadata": {},
   "outputs": [
    {
     "data": {
      "text/plain": [
       "43.59979940150065"
      ]
     },
     "execution_count": 43,
     "metadata": {},
     "output_type": "execute_result"
    }
   ],
   "source": [
    "# If we combine random.randint(-90, 89) and random.random() to generate a floating-point decimal between –90 and 90, we can generate a random latitude. We changed the lower range of the randint() because we want whole numbers up to 89, so when we add the floating-point decimal number, we'll generate latitudes between –89.99999 and 89.99999.\n",
    "random_number = random.randint(-90,89) + random.random()\n",
    "random_number"
   ]
  },
  {
   "cell_type": "code",
   "execution_count": 44,
   "id": "a07c9435",
   "metadata": {},
   "outputs": [],
   "source": [
    "# Using these two functions, we can write an algorithm that will generate latitudes between –90 and 89. Here is a small sample of what it might take to generate ten random floating-point decimal latitudes between –90 and 89.\n",
    "x = 1\n",
    "latitudes = []\n",
    "while x < 11:\n",
    "    random_lat = random.randint(-90, 89) + random.random()\n",
    "    latitudes.append(random_lat)\n",
    "    x += 1"
   ]
  },
  {
   "cell_type": "code",
   "execution_count": 45,
   "id": "967794b7",
   "metadata": {},
   "outputs": [],
   "source": [
    "# In the code block above, we:\n",
    "\n",
    "# Assign the variable x to 1.\n",
    "# Initialize an empty list, latitudes.\n",
    "# We create a while loop where we generate a random latitude and add it to the list.\n",
    "# After the random latitude is added to the list we add one to the variable \"x\".\n",
    "# The while loop condition is checked again and will continue to run as long as x is less than 11."
   ]
  },
  {
   "cell_type": "code",
   "execution_count": 46,
   "id": "47920a0a",
   "metadata": {},
   "outputs": [],
   "source": [
    "# Next, we would have to use a similar method to get random longitudes between –180 and 180, which we can then pair with the latitudes. This looks promising, but the code to generate the latitudes above is a little long.\n",
    "# Let's try another function, the randrange() function."
   ]
  },
  {
   "cell_type": "code",
   "execution_count": 47,
   "id": "1a519d37",
   "metadata": {},
   "outputs": [
    {
     "data": {
      "text/plain": [
       "-40"
      ]
     },
     "execution_count": 47,
     "metadata": {},
     "output_type": "execute_result"
    }
   ],
   "source": [
    "# The randrange() Function\n",
    "# The randrange() function behaves differently than the previous two functions. Inside the parentheses, we need to add two numbers, a lower and upper limit, separated by a comma.\n",
    "# For the randrange() function, there is an option to add a step parameter and set it equal to an integer, which will generate increments of a given integer value, from the lower to the upper limit.\n",
    "# For example, add random.randrange(-90, 90, step=1) to a new cell and run the cell. The output is a number between -90 and 90, where the step is the difference between each number in the sequence.\n",
    "\n",
    "random.randrange(-90, 90, step=1)"
   ]
  },
  {
   "cell_type": "code",
   "execution_count": 48,
   "id": "40c73edf",
   "metadata": {},
   "outputs": [
    {
     "data": {
      "text/plain": [
       "-51"
      ]
     },
     "execution_count": 48,
     "metadata": {},
     "output_type": "execute_result"
    }
   ],
   "source": [
    "# Now add random.randrange(-90, 90, step=3) to a new cell and run the cell. The output is a number between -90 and 90, where the difference between each number in the sequence is 3.\n",
    "\n",
    "random.randrange(-90, 90, step=3)"
   ]
  },
  {
   "cell_type": "code",
   "execution_count": 49,
   "id": "1a4d6071",
   "metadata": {},
   "outputs": [],
   "source": [
    "# If you don't add the step parameter, the output will be a number with an increment of 1, which is the default integer value.\n"
   ]
  },
  {
   "cell_type": "code",
   "execution_count": 50,
   "id": "26256ccc",
   "metadata": {},
   "outputs": [],
   "source": [
    "# This function might help us by combining the random.randrange() and random.random() functions to generate a floating-point decimal between –90 and 90, like we did with the random.randint() and random.random() functions.\n",
    "# Let's look at one last function, the uniform() function.\n"
   ]
  },
  {
   "cell_type": "code",
   "execution_count": 51,
   "id": "0ff55fd4",
   "metadata": {},
   "outputs": [
    {
     "data": {
      "text/plain": [
       "81.65229782934043"
      ]
     },
     "execution_count": 51,
     "metadata": {},
     "output_type": "execute_result"
    }
   ],
   "source": [
    "# The uniform() Function\n",
    "# The uniform() function will allow us to generate a floating-point decimal number between two given numbers inside the parentheses.\n",
    "# The uniform() function could prove to be quite useful because it will return a floating-point decimal number!\n",
    "\n",
    "random.uniform(-90, 90)"
   ]
  },
  {
   "cell_type": "code",
   "execution_count": 52,
   "id": "3fbc7aac",
   "metadata": {},
   "outputs": [],
   "source": [
    "# Function\tOutput\tLimitation\n",
    "# randint(-90, 89)\tReturns an integer between the interval, -90 and up to 89.\tWill not generate a floating-point decimal number.\n",
    "# random()\tReturns a floating-point decimal number between 0 and 1.\tWill not generate a whole integer.\n",
    "# randrange(-90, 90, step=1)\tReturns a whole integer between the interval, -90 and 90 where the step is the difference between each number in the sequence.\tWill not generate a floating-point decimal number.\n",
    "# uniform(-90, 90)\tReturns a floating-point decimal number between the interval, -90 and 90.\tWill not generate a whole integer.\n"
   ]
  },
  {
   "cell_type": "code",
   "execution_count": 53,
   "id": "8bc40c31",
   "metadata": {},
   "outputs": [],
   "source": [
    "# Remember, we need to get more than a thousand latitudes and longitudes, and running one of these functions using a while loop or other methods may take more programming than needed.\n",
    "# To help us generate the 1500 latitudes and longitudes, we can combine the NumPy module with one of the random module functions.\n"
   ]
  },
  {
   "cell_type": "code",
   "execution_count": 54,
   "id": "6317b23b",
   "metadata": {},
   "outputs": [],
   "source": [
    "# The NumPy and random Modules\n",
    "# One way to generate more than a thousand latitudes and longitudes is to chain the NumPy module to the random module to create an array of latitudes or longitudes between the lowest and highest values, or –90° and 90°, and –180° and 180°, respectively. To accomplish this, we'll use the uniform() function from the random module.\n"
   ]
  },
  {
   "cell_type": "code",
   "execution_count": 55,
   "id": "8353ce96",
   "metadata": {},
   "outputs": [],
   "source": [
    "# REWIND: Recall that the NumPy module is a numerical mathematics library that can be used to make arrays or matrices of numbers.\n"
   ]
  },
  {
   "cell_type": "code",
   "execution_count": 56,
   "id": "8101310e",
   "metadata": {},
   "outputs": [],
   "source": [
    "# Import the NumPy module.\n",
    "# entered with other dependencies!!"
   ]
  },
  {
   "cell_type": "code",
   "execution_count": 57,
   "id": "ef56dd5e",
   "metadata": {},
   "outputs": [],
   "source": [
    "# NOTE: The NumPy module has a built-in random module, and supplements the built-in Python random module. There is no need to import the random module if we import the NumPy module, as it's redundant.\n"
   ]
  },
  {
   "cell_type": "code",
   "execution_count": 58,
   "id": "c5db59e9",
   "metadata": {},
   "outputs": [
    {
     "data": {
      "text/plain": [
       "81.21918315467695"
      ]
     },
     "execution_count": 58,
     "metadata": {},
     "output_type": "execute_result"
    }
   ],
   "source": [
    "#. In the next cell add np.random.uniform(-90.000, 90.000) to generate a floating-point decimal number between –90.000 and 90.000. Adding the zeros past the decimal places is optional.\n",
    "np.random.uniform(-90.000, 90.000)\n"
   ]
  },
  {
   "cell_type": "code",
   "execution_count": 59,
   "id": "f3296428",
   "metadata": {},
   "outputs": [],
   "source": [
    "# When we use the NumPy module with the random.uniform() function, the parenthetical parameters contain a lower boundary (low value) and an upper boundary (high value) that are floating-point decimal numbers.\n"
   ]
  },
  {
   "cell_type": "code",
   "execution_count": 60,
   "id": "5263cd67",
   "metadata": {},
   "outputs": [],
   "source": [
    "# NOTE: Another option is to write the parameters as np.random.uniform(low=-90, high=90)."
   ]
  },
  {
   "cell_type": "code",
   "execution_count": 61,
   "id": "2ce92dc7",
   "metadata": {},
   "outputs": [
    {
     "data": {
      "text/plain": [
       "array([-88.60394579,  88.18791612, -53.36213983,  -0.3671881 ,\n",
       "       -43.20003546,  29.72685053,  73.98612044,  81.22732441,\n",
       "        60.85068021, -42.42691797,  66.74368423,  14.14528592,\n",
       "        51.07938396, -15.22521439, -50.7446938 ,  -8.14385753,\n",
       "       -35.74403795, -57.59119532,  11.52554137,  71.87201648,\n",
       "        35.92061313,   9.02500642,  46.67398549, -18.80133933,\n",
       "        34.62662378,  47.48581675, -87.96150576,  77.40275701,\n",
       "        73.61733117,  25.22810233, -89.18908107,  55.97095694,\n",
       "       -86.38462916, -35.13823945,  -7.75331665,  -1.18511028,\n",
       "       -13.94161281, -36.00242819,  51.27092698, -68.93286469,\n",
       "       -38.20463987, -17.33738999,  75.54311227,  79.01413187,\n",
       "        56.57634322,  38.7118084 , -61.122227  ,  62.55561837,\n",
       "        -2.70041017,  27.50290692])"
      ]
     },
     "execution_count": 61,
     "metadata": {},
     "output_type": "execute_result"
    }
   ],
   "source": [
    "# To generate more than one floating-point decimal number between –90 and 90, we can add the size parameter when we use the NumPy module and set that equal to any whole number.\n",
    "# add the code np.random.uniform(-90.000, 90.000, size=50) to a new cell and run the cell. The output is an array of 50 floating-point decimal numbers between –90.000 and 90.000.\n",
    "np.random.uniform(-90.000, 90.000, size=50)"
   ]
  },
  {
   "cell_type": "code",
   "execution_count": 62,
   "id": "b15707d1",
   "metadata": {},
   "outputs": [],
   "source": [
    "# Now we are getting somewhere–all we need to do is increase the parameter size to 1,500.\n",
    "# Is this method faster than creating a while loop like we did before? Let's test this for a size of 1,500.\n",
    "# To test how long a piece of code or function takes to run, we can import the \"timeit\" module and use the %timeit magic command when we run our code or call the function.\n",
    "# import the timeit module in a new cell, and run the cell.\n",
    "# entered with other dependencies!!\n"
   ]
  },
  {
   "cell_type": "code",
   "execution_count": 64,
   "id": "67d58826",
   "metadata": {},
   "outputs": [
    {
     "name": "stdout",
     "output_type": "stream",
     "text": [
      "26.8 µs ± 14.3 µs per loop (mean ± std. dev. of 7 runs, 10000 loops each)\n"
     ]
    }
   ],
   "source": [
    "# Next, add the %timeit magic command before the np.random.uniform(-90.000, 90.000, size=1500) in a new cell.\n",
    "# The amount of time it takes to run this code depends on the processing speed and the RAM of your computer.\n",
    "%timeit np.random.uniform(-90.000, 90.000, size=1500)\n"
   ]
  },
  {
   "cell_type": "code",
   "execution_count": 68,
   "id": "a6fceb0d",
   "metadata": {},
   "outputs": [
    {
     "name": "stdout",
     "output_type": "stream",
     "text": [
      "3.17 ms ± 1.09 ms per loop (mean ± std. dev. of 7 runs, 1000 loops each)\n"
     ]
    }
   ],
   "source": [
    "# Now, let's run the while loop as a function.\n",
    "def latitudes(size):\n",
    "    latitudes = []\n",
    "    x = 0\n",
    "    while x < (size):\n",
    "        random_lat = random.randint(-90, 90) + random.random()\n",
    "        latitudes.append(random_lat)\n",
    "        x += 1\n",
    "    return latitudes\n",
    "# Call the function with 1500.\n",
    "%timeit latitudes(1500)"
   ]
  },
  {
   "cell_type": "code",
   "execution_count": null,
   "id": "ffd04ae2",
   "metadata": {},
   "outputs": [],
   "source": [
    "# Using the np.random.uniform(-90.000, 90.000, size=1500) is 100 times faster than using the function, and our code is one line, whereas the function uses eight lines!"
   ]
  },
  {
   "cell_type": "code",
   "execution_count": null,
   "id": "45d9fc5c",
   "metadata": {},
   "outputs": [],
   "source": [
    "# SKILL DRILL: Refactor the code for the while loop with the %timeit magic command and write a for loop that will generate the 1,500 latitudes.\n"
   ]
  },
  {
   "cell_type": "code",
   "execution_count": null,
   "id": "cfc463f0",
   "metadata": {},
   "outputs": [],
   "source": [
    "# continues in WeatherPy.ipynb\n"
   ]
  }
 ],
 "metadata": {
  "kernelspec": {
   "display_name": "PythonData",
   "language": "python",
   "name": "pythondata"
  },
  "language_info": {
   "codemirror_mode": {
    "name": "ipython",
    "version": 3
   },
   "file_extension": ".py",
   "mimetype": "text/x-python",
   "name": "python",
   "nbconvert_exporter": "python",
   "pygments_lexer": "ipython3",
   "version": "3.8.8"
  }
 },
 "nbformat": 4,
 "nbformat_minor": 5
}
