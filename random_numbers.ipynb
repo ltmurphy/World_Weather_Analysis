{
 "cells": [
  {
   "cell_type": "code",
   "execution_count": 1,
   "id": "f3533e35",
   "metadata": {},
   "outputs": [],
   "source": [
    "# 6.1.4 Generate Random Latitudes and Longitudes\n",
    "# Earth's surface is covered by 70% water while the rest is covered by land. So, we can assume 70% of the latitude and longitude coordinates we generate are positioned over a body of water, whether an ocean, major lake (e.g., Lake Superior), or major river (e.g., Amazon). Geographic coordinates over a body of water may not be close to a city, especially if in the middle of an ocean.\n",
    "# Seven continental landmasses comprise 30% of Earth's surface. Some land is uninhabitable or sparsely populated due to extreme terrain and climes (e.g., Sahara, Siberia, the Himalayas, and areas of the western United States).\n",
    "# First consider the bodies of water. Start with at least 1,500 latitudes and longitudes, because 500 divided by 0.3 (30% land mass) equals 1,666 latitudes and longitudes.\n",
    "# We'll generate random latitudes and longitudes to ensure coordinates are fairly distributed around the world. An algorithm will pick random numbers between the low and high values for latitudes and longitudes. Also, the latitudes and longitudes must be floating-point decimal numbers, as each angular unit of degrees, minutes, and seconds can be represented by a decimal number. For example, Kailua-Kona, Hawaii has the angular coordinates 19° 38' 23.9784'' north and 155° 59' 48.9588'' west and can be written as a decimal number as follows: 19.639994, -155.996933.\n",
    "# To generate random numbers, we can use the Python random module. This module is part of the Python and Anaconda installation, so we don't need to install it\n"
   ]
  },
  {
   "cell_type": "code",
   "execution_count": 2,
   "id": "7cfcec6b",
   "metadata": {},
   "outputs": [],
   "source": [
    "# import the dependencies\n",
    "# Import the random module.\n",
    "# Import the NumPy module.\n",
    "# Import timeit.\n",
    "\n",
    "import timeit\n",
    "\n",
    "import numpy as np\n",
    "\n",
    "import random"
   ]
  },
  {
   "cell_type": "code",
   "execution_count": 3,
   "id": "48a229fb",
   "metadata": {},
   "outputs": [],
   "source": [
    "# For testing, we'll use the randint(), random(), randrange(), and uniform() functions."
   ]
  },
  {
   "cell_type": "code",
   "execution_count": 4,
   "id": "a2491a66",
   "metadata": {},
   "outputs": [
    {
     "data": {
      "text/plain": [
       "7"
      ]
     },
     "execution_count": 4,
     "metadata": {},
     "output_type": "execute_result"
    }
   ],
   "source": [
    "# The randint() Function\n",
    "# randint is short for \"random integer.\" In the second cell, after random., type randint(-90, 90), as shown below.\n",
    "# When we run this cell, we'll get a single integer between –90 and 90 because we need two latitudes between –90 and 90.\n",
    "\n",
    "random.randint(-90, 90)"
   ]
  },
  {
   "cell_type": "code",
   "execution_count": 5,
   "id": "31d67123",
   "metadata": {},
   "outputs": [
    {
     "data": {
      "text/plain": [
       "0.10294962141865982"
      ]
     },
     "execution_count": 5,
     "metadata": {},
     "output_type": "execute_result"
    }
   ],
   "source": [
    "# The random() Function\n",
    "# Using the random() function, we can get a single floating-point decimal number between 0 and 1.0.\n",
    "\n",
    "random.random() "
   ]
  },
  {
   "cell_type": "code",
   "execution_count": 6,
   "id": "2f953812",
   "metadata": {},
   "outputs": [
    {
     "data": {
      "text/plain": [
       "49.5546119133895"
      ]
     },
     "execution_count": 6,
     "metadata": {},
     "output_type": "execute_result"
    }
   ],
   "source": [
    "# If we combine random.randint(-90, 89) and random.random() to generate a floating-point decimal between –90 and 90, we can generate a random latitude. We changed the lower range of the randint() because we want whole numbers up to 89, so when we add the floating-point decimal number, we'll generate latitudes between –89.99999 and 89.99999.\n",
    "random_number = random.randint(-90,89) + random.random()\n",
    "random_number"
   ]
  },
  {
   "cell_type": "code",
   "execution_count": 7,
   "id": "a07c9435",
   "metadata": {},
   "outputs": [],
   "source": [
    "# Using these two functions, we can write an algorithm that will generate latitudes between –90 and 89. Here is a small sample of what it might take to generate ten random floating-point decimal latitudes between –90 and 89.\n",
    "x = 1\n",
    "latitudes = []\n",
    "while x < 11:\n",
    "    random_lat = random.randint(-90, 89) + random.random()\n",
    "    latitudes.append(random_lat)\n",
    "    x += 1"
   ]
  },
  {
   "cell_type": "code",
   "execution_count": 8,
   "id": "967794b7",
   "metadata": {},
   "outputs": [],
   "source": [
    "# In the code block above, we:\n",
    "\n",
    "# Assign the variable x to 1.\n",
    "# Initialize an empty list, latitudes.\n",
    "# We create a while loop where we generate a random latitude and add it to the list.\n",
    "# After the random latitude is added to the list we add one to the variable \"x\".\n",
    "# The while loop condition is checked again and will continue to run as long as x is less than 11."
   ]
  },
  {
   "cell_type": "code",
   "execution_count": 11,
   "id": "47920a0a",
   "metadata": {},
   "outputs": [],
   "source": [
    "# Next, we would have to use a similar method to get random longitudes between –180 and 180, which we can then pair with the latitudes. This looks promising, but the code to generate the latitudes above is a little long.\n",
    "# Let's try another function, the randrange() function."
   ]
  },
  {
   "cell_type": "code",
   "execution_count": 12,
   "id": "1a519d37",
   "metadata": {},
   "outputs": [
    {
     "data": {
      "text/plain": [
       "-25"
      ]
     },
     "execution_count": 12,
     "metadata": {},
     "output_type": "execute_result"
    }
   ],
   "source": [
    "# The randrange() Function\n",
    "# The randrange() function behaves differently than the previous two functions. Inside the parentheses, we need to add two numbers, a lower and upper limit, separated by a comma.\n",
    "# For the randrange() function, there is an option to add a step parameter and set it equal to an integer, which will generate increments of a given integer value, from the lower to the upper limit.\n",
    "# For example, add random.randrange(-90, 90, step=1) to a new cell and run the cell. The output is a number between -90 and 90, where the step is the difference between each number in the sequence.\n",
    "\n",
    "random.randrange(-90, 90, step=1)"
   ]
  },
  {
   "cell_type": "code",
   "execution_count": 13,
   "id": "40c73edf",
   "metadata": {},
   "outputs": [
    {
     "data": {
      "text/plain": [
       "84"
      ]
     },
     "execution_count": 13,
     "metadata": {},
     "output_type": "execute_result"
    }
   ],
   "source": [
    "# Now add random.randrange(-90, 90, step=3) to a new cell and run the cell. The output is a number between -90 and 90, where the difference between each number in the sequence is 3.\n",
    "\n",
    "random.randrange(-90, 90, step=3)"
   ]
  },
  {
   "cell_type": "code",
   "execution_count": 14,
   "id": "1a4d6071",
   "metadata": {},
   "outputs": [],
   "source": [
    "# If you don't add the step parameter, the output will be a number with an increment of 1, which is the default integer value.\n"
   ]
  },
  {
   "cell_type": "code",
   "execution_count": 15,
   "id": "26256ccc",
   "metadata": {},
   "outputs": [],
   "source": [
    "# This function might help us by combining the random.randrange() and random.random() functions to generate a floating-point decimal between –90 and 90, like we did with the random.randint() and random.random() functions.\n",
    "# Let's look at one last function, the uniform() function.\n"
   ]
  },
  {
   "cell_type": "code",
   "execution_count": 16,
   "id": "0ff55fd4",
   "metadata": {},
   "outputs": [
    {
     "data": {
      "text/plain": [
       "69.8718971313476"
      ]
     },
     "execution_count": 16,
     "metadata": {},
     "output_type": "execute_result"
    }
   ],
   "source": [
    "# The uniform() Function\n",
    "# The uniform() function will allow us to generate a floating-point decimal number between two given numbers inside the parentheses.\n",
    "# The uniform() function could prove to be quite useful because it will return a floating-point decimal number!\n",
    "\n",
    "random.uniform(-90, 90)"
   ]
  },
  {
   "cell_type": "code",
   "execution_count": 17,
   "id": "3fbc7aac",
   "metadata": {},
   "outputs": [],
   "source": [
    "# Function\tOutput\tLimitation\n",
    "# randint(-90, 89)\tReturns an integer between the interval, -90 and up to 89.\tWill not generate a floating-point decimal number.\n",
    "# random()\tReturns a floating-point decimal number between 0 and 1.\tWill not generate a whole integer.\n",
    "# randrange(-90, 90, step=1)\tReturns a whole integer between the interval, -90 and 90 where the step is the difference between each number in the sequence.\tWill not generate a floating-point decimal number.\n",
    "# uniform(-90, 90)\tReturns a floating-point decimal number between the interval, -90 and 90.\tWill not generate a whole integer.\n"
   ]
  },
  {
   "cell_type": "code",
   "execution_count": 18,
   "id": "8bc40c31",
   "metadata": {},
   "outputs": [],
   "source": [
    "# Remember, we need to get more than a thousand latitudes and longitudes, and running one of these functions using a while loop or other methods may take more programming than needed.\n",
    "# To help us generate the 1500 latitudes and longitudes, we can combine the NumPy module with one of the random module functions.\n"
   ]
  },
  {
   "cell_type": "code",
   "execution_count": 19,
   "id": "6317b23b",
   "metadata": {},
   "outputs": [],
   "source": [
    "# The NumPy and random Modules\n",
    "# One way to generate more than a thousand latitudes and longitudes is to chain the NumPy module to the random module to create an array of latitudes or longitudes between the lowest and highest values, or –90° and 90°, and –180° and 180°, respectively. To accomplish this, we'll use the uniform() function from the random module.\n"
   ]
  },
  {
   "cell_type": "code",
   "execution_count": 20,
   "id": "8353ce96",
   "metadata": {},
   "outputs": [],
   "source": [
    "# REWIND: Recall that the NumPy module is a numerical mathematics library that can be used to make arrays or matrices of numbers.\n"
   ]
  },
  {
   "cell_type": "code",
   "execution_count": 21,
   "id": "8101310e",
   "metadata": {},
   "outputs": [],
   "source": [
    "# Import the NumPy module.\n",
    "# entered with other dependencies!!"
   ]
  },
  {
   "cell_type": "code",
   "execution_count": 22,
   "id": "ef56dd5e",
   "metadata": {},
   "outputs": [],
   "source": [
    "# NOTE: The NumPy module has a built-in random module, and supplements the built-in Python random module. There is no need to import the random module if we import the NumPy module, as it's redundant.\n"
   ]
  },
  {
   "cell_type": "code",
   "execution_count": 23,
   "id": "c5db59e9",
   "metadata": {},
   "outputs": [
    {
     "data": {
      "text/plain": [
       "-38.48400896900002"
      ]
     },
     "execution_count": 23,
     "metadata": {},
     "output_type": "execute_result"
    }
   ],
   "source": [
    "#. In the next cell add np.random.uniform(-90.000, 90.000) to generate a floating-point decimal number between –90.000 and 90.000. Adding the zeros past the decimal places is optional.\n",
    "np.random.uniform(-90.000, 90.000)\n"
   ]
  },
  {
   "cell_type": "code",
   "execution_count": 24,
   "id": "f3296428",
   "metadata": {},
   "outputs": [],
   "source": [
    "# When we use the NumPy module with the random.uniform() function, the parenthetical parameters contain a lower boundary (low value) and an upper boundary (high value) that are floating-point decimal numbers.\n"
   ]
  },
  {
   "cell_type": "code",
   "execution_count": 25,
   "id": "5263cd67",
   "metadata": {},
   "outputs": [],
   "source": [
    "# NOTE: Another option is to write the parameters as np.random.uniform(low=-90, high=90)."
   ]
  },
  {
   "cell_type": "code",
   "execution_count": 26,
   "id": "2ce92dc7",
   "metadata": {},
   "outputs": [
    {
     "data": {
      "text/plain": [
       "array([-50.1232401 ,  59.66082791, -36.20726237,  66.18404089,\n",
       "        24.44253636, -48.45044286, -78.49924779, -79.32653823,\n",
       "        38.44631598,  75.59890465,  29.65238562,  29.11790219,\n",
       "        -2.31486276, -13.51206998,  69.09339208,  72.68711904,\n",
       "       -86.45115734,   8.26366465,  70.72890956, -80.01247393,\n",
       "       -78.28518208,  -1.80066789,  89.09457276, -50.68369106,\n",
       "         6.06838453,  73.53926108, -69.28334078,  -1.82402884,\n",
       "        79.63592111, -26.75765297,   2.63364724, -83.78009271,\n",
       "        21.24809507, -31.60096287,  16.44705392,  73.37347789,\n",
       "       -39.33692729, -47.69687412,  89.88190586,  89.37071635,\n",
       "       -33.69248082, -13.71933246,  56.43183552,  63.85449033,\n",
       "       -51.0683502 , -57.74164024,  21.87930769,  12.31545062,\n",
       "       -29.3358281 ,  20.3606114 ])"
      ]
     },
     "execution_count": 26,
     "metadata": {},
     "output_type": "execute_result"
    }
   ],
   "source": [
    "# To generate more than one floating-point decimal number between –90 and 90, we can add the size parameter when we use the NumPy module and set that equal to any whole number.\n",
    "# add the code np.random.uniform(-90.000, 90.000, size=50) to a new cell and run the cell. The output is an array of 50 floating-point decimal numbers between –90.000 and 90.000.\n",
    "np.random.uniform(-90.000, 90.000, size=50)"
   ]
  },
  {
   "cell_type": "code",
   "execution_count": 27,
   "id": "b15707d1",
   "metadata": {},
   "outputs": [],
   "source": [
    "# Now we are getting somewhere–all we need to do is increase the parameter size to 1,500.\n",
    "# Is this method faster than creating a while loop like we did before? Let's test this for a size of 1,500.\n",
    "# To test how long a piece of code or function takes to run, we can import the \"timeit\" module and use the %timeit magic command when we run our code or call the function.\n",
    "# import the timeit module in a new cell, and run the cell.\n",
    "# entered with other dependencies!!\n"
   ]
  },
  {
   "cell_type": "code",
   "execution_count": 28,
   "id": "67d58826",
   "metadata": {},
   "outputs": [
    {
     "name": "stdout",
     "output_type": "stream",
     "text": [
      "21.7 µs ± 2.61 µs per loop (mean ± std. dev. of 7 runs, 10000 loops each)\n"
     ]
    }
   ],
   "source": [
    "# Next, add the %timeit magic command before the np.random.uniform(-90.000, 90.000, size=1500) in a new cell.\n",
    "# The amount of time it takes to run this code depends on the processing speed and the RAM of your computer.\n",
    "%timeit np.random.uniform(-90.000, 90.000, size=1500)\n"
   ]
  },
  {
   "cell_type": "code",
   "execution_count": 29,
   "id": "a6fceb0d",
   "metadata": {},
   "outputs": [
    {
     "name": "stdout",
     "output_type": "stream",
     "text": [
      "1.79 ms ± 25.9 µs per loop (mean ± std. dev. of 7 runs, 100 loops each)\n"
     ]
    }
   ],
   "source": [
    "# Now, let's run the while loop as a function.\n",
    "def latitudes(size):\n",
    "    latitudes = []\n",
    "    x = 0\n",
    "    while x < (size):\n",
    "        random_lat = random.randint(-90, 90) + random.random()\n",
    "        latitudes.append(random_lat)\n",
    "        x += 1\n",
    "    return latitudes\n",
    "# Call the function with 1500.\n",
    "%timeit latitudes(1500)"
   ]
  },
  {
   "cell_type": "code",
   "execution_count": 30,
   "id": "ffd04ae2",
   "metadata": {},
   "outputs": [],
   "source": [
    "# Using the np.random.uniform(-90.000, 90.000, size=1500) is 100 times faster than using the function, and our code is one line, whereas the function uses eight lines!"
   ]
  },
  {
   "cell_type": "code",
   "execution_count": 31,
   "id": "45d9fc5c",
   "metadata": {},
   "outputs": [],
   "source": [
    "# SKILL DRILL: Refactor the code for the while loop with the %timeit magic command and write a for loop that will generate the 1,500 latitudes.\n",
    "\n"
   ]
  },
  {
   "cell_type": "code",
   "execution_count": 32,
   "id": "cfc463f0",
   "metadata": {},
   "outputs": [],
   "source": [
    "# continues in WeatherPy.ipynb\n"
   ]
  },
  {
   "cell_type": "code",
   "execution_count": 33,
   "id": "cd90ad91",
   "metadata": {},
   "outputs": [],
   "source": [
    "# continued from WeatherPy.ipynb\n",
    "# 6.4.1 \n",
    "# In a new cell of our random_numbers Jupyter Notebook file, we'll import the linear regression function from the SciPy statistics module.\n",
    "# Import linear regression from the SciPy stats module.\n",
    "from scipy.stats import linregress"
   ]
  },
  {
   "cell_type": "code",
   "execution_count": 34,
   "id": "1f71a779",
   "metadata": {},
   "outputs": [],
   "source": [
    "# Next, we'll generate random latitudes as we did earlier. However, this time, latitudes will be in the Northern Hemisphere and therefore positive. In addition, we'll generate an equal number of random temperatures. Add the following list to a new cell and run the cell.\n",
    "# Create an equal number of latitudes and temperatures.\n",
    "lats = [42.5, 43.9, 8.1, 36.8, 79.9, 69.1, 25.7, 15.3, 12.7, 64.5]\n",
    "temps = [80.5, 75.3, 90.9, 90.0, 40.4, 62.3, 85.4, 79.6, 72.5, 72.0]"
   ]
  },
  {
   "cell_type": "code",
   "execution_count": 35,
   "id": "93a61e77",
   "metadata": {},
   "outputs": [
    {
     "name": "stdout",
     "output_type": "stream",
     "text": [
      "y = -0.45x + 92.94\n",
      "The p-value is: 0.011\n"
     ]
    }
   ],
   "source": [
    "# Next, use the linregress function to calculate the slope, y-intercept, correlation coefficient (r-value), p-value, and standard deviation, and then we'll print out the equation for the line.\n",
    "# # Perform linear regression.\n",
    "(slope, intercept, r_value, p_value, std_err) = linregress(lats, temps)\n",
    "# Get the equation of the line.\n",
    "line_eq = \"y = \" + str(round(slope,2)) + \"x + \" + str(round(intercept,2))\n",
    "print(line_eq)\n",
    "print(f\"The p-value is: {p_value:.3f}\")\n",
    "\n",
    "# When we run the cell, we get the equation of a line for the data and the calculated probability (p-value)."
   ]
  },
  {
   "cell_type": "code",
   "execution_count": 36,
   "id": "0a810121",
   "metadata": {},
   "outputs": [],
   "source": [
    "# In the code to perform linear regression, the linregress function takes only two arguments, the x- and y-axes data (lats and temps) in the form of arrays. And it returns the following:\n",
    "    # Slope of the regression line as slope\n",
    "    # y-intercept as intercept\n",
    "    # Correlation coefficient as r_value\n",
    "    # p-value as p_value\n",
    "    # Standard error as std_err"
   ]
  },
  {
   "cell_type": "code",
   "execution_count": 37,
   "id": "b05dbe4b",
   "metadata": {},
   "outputs": [],
   "source": [
    "# IMPORTANT: The slope, intercept, r_value, p_value, and std_errare always returned when we run the linregress function. If you don't want to calculate one of these values but do not add it inside the parentheses, you'll get a ValueError: too many values to unpack.\n",
    "# IMPORTANT: To prevent this error, add a comma and underscore for each value you don't want to calculate.\n",
    "# IMPORTANT: For instance, if you don't want to print out the p-value and the standard error, write your function as (slope, intercept, r_value, _, _) = linregress(x, y)."
   ]
  },
  {
   "cell_type": "code",
   "execution_count": 38,
   "id": "e9992af1",
   "metadata": {},
   "outputs": [],
   "source": [
    "# NOTE: In statistics, the p-value is used to determine significance of results. In most cases, data scientists like to use a significance level of 0.05, which means:\n",
    "# NOTE: A linear regression with a p-value > 0.05 is not statistically significant.\n",
    "# NOTE: A linear regression with a p-value < 0.05 is statistically significant.\n",
    "# NOTE: P-values can also be used to justify rejecting a null hypothesis. We will discuss p-values and hypothesis testing in more detail later in the course."
   ]
  },
  {
   "cell_type": "code",
   "execution_count": 39,
   "id": "57aaa932",
   "metadata": {},
   "outputs": [],
   "source": [
    "# Now we can calculate the ideal temperatures (y-values) using the slope and intercept from the equation of the regression line. To do this, perform list comprehension on the latitudes by multiplying each latitude by the slope and adding the intercept.\n",
    "# Add the following code in a new cell and run the cell.\n",
    "# Calculate the regression line \"y values\" from the slope and intercept.\n",
    "regress_values = [(lat * slope + intercept) for lat in lats]"
   ]
  },
  {
   "cell_type": "code",
   "execution_count": 40,
   "id": "d48cc376",
   "metadata": {},
   "outputs": [
    {
     "data": {
      "image/png": "[encoded data removed]",
      "text/plain": [
       "<Figure size 432x288 with 1 Axes>"
      ]
     },
     "metadata": {
      "needs_background": "light"
     },
     "output_type": "display_data"
    }
   ],
   "source": [
    "# Add the following code to a new cell and run the cell to plot our data.\n",
    "# Import Matplotlib.\n",
    "import matplotlib.pyplot as plt\n",
    "# Create a scatter plot of the x and y values.\n",
    "plt.scatter(lats,temps)\n",
    "# Plot the regression line with the x-values and the y coordinates based on the intercept and slope.\n",
    "plt.plot(lats,regress_values,\"r\")\n",
    "# Annotate the text for the line equation and add its coordinates.\n",
    "plt.annotate(line_eq, (10,40), fontsize=15, color=\"red\")\n",
    "plt.xlabel('Latitude')\n",
    "plt.ylabel('Temp')\n",
    "plt.show()"
   ]
  },
  {
   "cell_type": "code",
   "execution_count": null,
   "id": "b935f4a6",
   "metadata": {},
   "outputs": [],
   "source": [
    "# Now that you are familiar with how to perform linear regression, let's use our data from the scatter plots.\n",
    "\n",
    "# NOTE: For more information, see the documentation on the linear regression function\n",
    "\n",
    "# continued in WeatherPy.ipynb"
   ]
  }
 ],
 "metadata": {
  "kernelspec": {
   "display_name": "PythonData",
   "language": "python",
   "name": "pythondata"
  },
  "language_info": {
   "codemirror_mode": {
    "name": "ipython",
    "version": 3
   },
   "file_extension": ".py",
   "mimetype": "text/x-python",
   "name": "python",
   "nbconvert_exporter": "python",
   "pygments_lexer": "ipython3",
   "version": "3.8.8"
  }
 },
 "nbformat": 4,
 "nbformat_minor": 5
}
